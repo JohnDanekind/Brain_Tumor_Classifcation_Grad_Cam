{
 "cells": [
  {
   "cell_type": "markdown",
   "id": "d62c546d",
   "metadata": {
    "papermill": {
     "duration": 0.014976,
     "end_time": "2024-11-15T09:09:55.870801",
     "exception": false,
     "start_time": "2024-11-15T09:09:55.855825",
     "status": "completed"
    },
    "tags": []
   },
   "source": [
    "# Setup"
   ]
  },
  {
   "cell_type": "markdown",
   "id": "362772ad",
   "metadata": {
    "papermill": {
     "duration": 0.012149,
     "end_time": "2024-11-15T09:09:55.895460",
     "exception": false,
     "start_time": "2024-11-15T09:09:55.883311",
     "status": "completed"
    },
    "tags": []
   },
   "source": [
    "## Imports Necessary Libraries"
   ]
  },
  {
   "cell_type": "code",
   "execution_count": 1,
   "id": "914901cb",
   "metadata": {
    "execution": {
     "iopub.execute_input": "2024-11-15T09:09:55.923383Z",
     "iopub.status.busy": "2024-11-15T09:09:55.922848Z",
     "iopub.status.idle": "2024-11-15T09:10:13.343772Z",
     "shell.execute_reply": "2024-11-15T09:10:13.342598Z"
    },
    "papermill": {
     "duration": 17.437708,
     "end_time": "2024-11-15T09:10:13.346677",
     "exception": false,
     "start_time": "2024-11-15T09:09:55.908969",
     "status": "completed"
    },
    "tags": []
   },
   "outputs": [],
   "source": [
    "# ---------- Import Essential Libraries ---------- #\n",
    "\n",
    "# Machine Learning Essentials #\n",
    "import numpy as np \n",
    "import pandas as pd \n",
    "import matplotlib.pyplot as plt\n",
    "import os \n",
    "from sklearn.model_selection import train_test_split\n",
    "import tensorflow as tf \n",
    "from tensorflow import keras \n",
    "from tensorflow.keras.preprocessing.image import ImageDataGenerator\n",
    "import cv2\n",
    "\n",
    "# import splitfolders \n",
    "import pathlib\n",
    "from pathlib import Path\n",
    "\n",
    "# Python Utils #\n",
    "import copy\n",
    "\n",
    "# Other #\n"
   ]
  },
  {
   "cell_type": "markdown",
   "id": "104c8fcc",
   "metadata": {
    "papermill": {
     "duration": 0.011905,
     "end_time": "2024-11-15T09:10:13.371146",
     "exception": false,
     "start_time": "2024-11-15T09:10:13.359241",
     "status": "completed"
    },
    "tags": []
   },
   "source": [
    "## Inputs and Folders"
   ]
  },
  {
   "cell_type": "code",
   "execution_count": 2,
   "id": "b1f5a350",
   "metadata": {
    "execution": {
     "iopub.execute_input": "2024-11-15T09:10:13.398750Z",
     "iopub.status.busy": "2024-11-15T09:10:13.398043Z",
     "iopub.status.idle": "2024-11-15T09:10:13.404067Z",
     "shell.execute_reply": "2024-11-15T09:10:13.402975Z"
    },
    "papermill": {
     "duration": 0.022638,
     "end_time": "2024-11-15T09:10:13.406471",
     "exception": false,
     "start_time": "2024-11-15T09:10:13.383833",
     "status": "completed"
    },
    "tags": []
   },
   "outputs": [],
   "source": [
    "# Globals / Settings\n",
    "KAGGLE_INPUT   = '/kaggle/input'\n",
    "DATA_METADATA  = '/kaggle/input/brian-tumor-dataset/metadata.csv'\n",
    "DATA_DIRECTORY = '/kaggle/input/brian-tumor-dataset/Brain Tumor Data Set/Brain Tumor Data Set'\n"
   ]
  },
  {
   "cell_type": "markdown",
   "id": "8777e34b",
   "metadata": {
    "papermill": {
     "duration": 0.012127,
     "end_time": "2024-11-15T09:10:13.431186",
     "exception": false,
     "start_time": "2024-11-15T09:10:13.419059",
     "status": "completed"
    },
    "tags": []
   },
   "source": [
    "# New Data Thing"
   ]
  },
  {
   "cell_type": "code",
   "execution_count": 3,
   "id": "5c649f88",
   "metadata": {
    "execution": {
     "iopub.execute_input": "2024-11-15T09:10:13.457771Z",
     "iopub.status.busy": "2024-11-15T09:10:13.457320Z",
     "iopub.status.idle": "2024-11-15T09:10:14.330988Z",
     "shell.execute_reply": "2024-11-15T09:10:14.329718Z"
    },
    "papermill": {
     "duration": 0.890381,
     "end_time": "2024-11-15T09:10:14.333948",
     "exception": false,
     "start_time": "2024-11-15T09:10:13.443567",
     "status": "completed"
    },
    "tags": []
   },
   "outputs": [],
   "source": [
    "# Define the directories and labels for both folders of images \n",
    "\n",
    "directories = {\n",
    "    \"Brain Tumor\": '/kaggle/input/brian-tumor-dataset/Brain Tumor Data Set/Brain Tumor Data Set/Brain Tumor',\n",
    "    \"Healthy\":  '/kaggle/input/brian-tumor-dataset/Brain Tumor Data Set/Brain Tumor Data Set/Healthy'\n",
    "}\n",
    "\n",
    "# Create list of filepaths and a list of labels \n",
    "filepaths = []\n",
    "labels = [] \n",
    "\n",
    "# Iterate through the directories and collect the file paths and labels \n",
    "for label, path in directories.items():\n",
    "    for name in os.listdir(path):\n",
    "        filepaths.append(os.path.join(path, name))\n",
    "        labels.append(label)\n",
    "\n",
    "\n",
    "# Create a dataframe with the file paths and the labels \n",
    "\n",
    "df = pd.DataFrame({\"filepaths\": filepaths, \"labels\": labels})\n",
    "\n",
    "\n"
   ]
  },
  {
   "cell_type": "code",
   "execution_count": 4,
   "id": "6a9cde26",
   "metadata": {
    "execution": {
     "iopub.execute_input": "2024-11-15T09:10:14.360364Z",
     "iopub.status.busy": "2024-11-15T09:10:14.359919Z",
     "iopub.status.idle": "2024-11-15T09:10:14.381352Z",
     "shell.execute_reply": "2024-11-15T09:10:14.380123Z"
    },
    "papermill": {
     "duration": 0.037945,
     "end_time": "2024-11-15T09:10:14.384306",
     "exception": false,
     "start_time": "2024-11-15T09:10:14.346361",
     "status": "completed"
    },
    "tags": []
   },
   "outputs": [
    {
     "data": {
      "text/html": [
       "<div>\n",
       "<style scoped>\n",
       "    .dataframe tbody tr th:only-of-type {\n",
       "        vertical-align: middle;\n",
       "    }\n",
       "\n",
       "    .dataframe tbody tr th {\n",
       "        vertical-align: top;\n",
       "    }\n",
       "\n",
       "    .dataframe thead th {\n",
       "        text-align: right;\n",
       "    }\n",
       "</style>\n",
       "<table border=\"1\" class=\"dataframe\">\n",
       "  <thead>\n",
       "    <tr style=\"text-align: right;\">\n",
       "      <th></th>\n",
       "      <th>filepaths</th>\n",
       "      <th>labels</th>\n",
       "    </tr>\n",
       "  </thead>\n",
       "  <tbody>\n",
       "    <tr>\n",
       "      <th>0</th>\n",
       "      <td>/kaggle/input/brian-tumor-dataset/Brain Tumor ...</td>\n",
       "      <td>Brain Tumor</td>\n",
       "    </tr>\n",
       "    <tr>\n",
       "      <th>1</th>\n",
       "      <td>/kaggle/input/brian-tumor-dataset/Brain Tumor ...</td>\n",
       "      <td>Brain Tumor</td>\n",
       "    </tr>\n",
       "    <tr>\n",
       "      <th>2</th>\n",
       "      <td>/kaggle/input/brian-tumor-dataset/Brain Tumor ...</td>\n",
       "      <td>Brain Tumor</td>\n",
       "    </tr>\n",
       "    <tr>\n",
       "      <th>3</th>\n",
       "      <td>/kaggle/input/brian-tumor-dataset/Brain Tumor ...</td>\n",
       "      <td>Brain Tumor</td>\n",
       "    </tr>\n",
       "    <tr>\n",
       "      <th>4</th>\n",
       "      <td>/kaggle/input/brian-tumor-dataset/Brain Tumor ...</td>\n",
       "      <td>Brain Tumor</td>\n",
       "    </tr>\n",
       "  </tbody>\n",
       "</table>\n",
       "</div>"
      ],
      "text/plain": [
       "                                           filepaths       labels\n",
       "0  /kaggle/input/brian-tumor-dataset/Brain Tumor ...  Brain Tumor\n",
       "1  /kaggle/input/brian-tumor-dataset/Brain Tumor ...  Brain Tumor\n",
       "2  /kaggle/input/brian-tumor-dataset/Brain Tumor ...  Brain Tumor\n",
       "3  /kaggle/input/brian-tumor-dataset/Brain Tumor ...  Brain Tumor\n",
       "4  /kaggle/input/brian-tumor-dataset/Brain Tumor ...  Brain Tumor"
      ]
     },
     "execution_count": 4,
     "metadata": {},
     "output_type": "execute_result"
    }
   ],
   "source": [
    "df.head()"
   ]
  },
  {
   "cell_type": "markdown",
   "id": "a885c587",
   "metadata": {
    "papermill": {
     "duration": 0.012335,
     "end_time": "2024-11-15T09:10:14.409825",
     "exception": false,
     "start_time": "2024-11-15T09:10:14.397490",
     "status": "completed"
    },
    "tags": []
   },
   "source": [
    "## Split data into training, testing, and validation sets"
   ]
  },
  {
   "cell_type": "code",
   "execution_count": 5,
   "id": "2fd135a8",
   "metadata": {
    "execution": {
     "iopub.execute_input": "2024-11-15T09:10:14.437452Z",
     "iopub.status.busy": "2024-11-15T09:10:14.436527Z",
     "iopub.status.idle": "2024-11-15T09:10:14.467370Z",
     "shell.execute_reply": "2024-11-15T09:10:14.465832Z"
    },
    "papermill": {
     "duration": 0.047885,
     "end_time": "2024-11-15T09:10:14.470379",
     "exception": false,
     "start_time": "2024-11-15T09:10:14.422494",
     "status": "completed"
    },
    "tags": []
   },
   "outputs": [
    {
     "name": "stdout",
     "output_type": "stream",
     "text": [
      "Training set is of shape (2932, 2)\n",
      "Testing set is of shape (1150, 2)\n",
      "Validation set is of shape (518, 2)\n"
     ]
    }
   ],
   "source": [
    "train_df, test_df = train_test_split(df, test_size=0.25, random_state=42,stratify=df.labels)\n",
    "train_df, val_df = train_test_split(train_df, test_size=0.15, random_state=42,stratify=train_df.labels)\n",
    "print(f\"Training set is of shape {train_df.shape}\")\n",
    "print(f\"Testing set is of shape {test_df.shape}\")\n",
    "print(f\"Validation set is of shape {val_df.shape}\")\n",
    "\n"
   ]
  },
  {
   "cell_type": "markdown",
   "id": "a8383c65",
   "metadata": {
    "papermill": {
     "duration": 0.012438,
     "end_time": "2024-11-15T09:10:14.495822",
     "exception": false,
     "start_time": "2024-11-15T09:10:14.483384",
     "status": "completed"
    },
    "tags": []
   },
   "source": [
    "# Preprocess Images "
   ]
  },
  {
   "cell_type": "markdown",
   "id": "f5a6830a",
   "metadata": {
    "papermill": {
     "duration": 0.012816,
     "end_time": "2024-11-15T09:10:14.521494",
     "exception": false,
     "start_time": "2024-11-15T09:10:14.508678",
     "status": "completed"
    },
    "tags": []
   },
   "source": [
    "### Enhance the image \n",
    "If time permits, increase contrast using cv2.addWeighted, Sharpen with a kernek using OpenCV's filter2D function, and a couple other operations "
   ]
  },
  {
   "cell_type": "code",
   "execution_count": 6,
   "id": "79e31a16",
   "metadata": {
    "execution": {
     "iopub.execute_input": "2024-11-15T09:10:14.549669Z",
     "iopub.status.busy": "2024-11-15T09:10:14.548519Z",
     "iopub.status.idle": "2024-11-15T09:10:14.553939Z",
     "shell.execute_reply": "2024-11-15T09:10:14.552735Z"
    },
    "papermill": {
     "duration": 0.021921,
     "end_time": "2024-11-15T09:10:14.556313",
     "exception": false,
     "start_time": "2024-11-15T09:10:14.534392",
     "status": "completed"
    },
    "tags": []
   },
   "outputs": [],
   "source": [
    "# Add code to enhance the image if it makes the model perform better "
   ]
  },
  {
   "cell_type": "markdown",
   "id": "22ff99cc",
   "metadata": {
    "papermill": {
     "duration": 0.013093,
     "end_time": "2024-11-15T09:10:14.582153",
     "exception": false,
     "start_time": "2024-11-15T09:10:14.569060",
     "status": "completed"
    },
    "tags": []
   },
   "source": [
    "# Data Generators (Batching, Data Augmentation, On-the-fly-processing, and flow control) "
   ]
  },
  {
   "cell_type": "code",
   "execution_count": 7,
   "id": "a413391a",
   "metadata": {
    "execution": {
     "iopub.execute_input": "2024-11-15T09:10:14.610033Z",
     "iopub.status.busy": "2024-11-15T09:10:14.609567Z",
     "iopub.status.idle": "2024-11-15T09:10:24.727308Z",
     "shell.execute_reply": "2024-11-15T09:10:24.726003Z"
    },
    "papermill": {
     "duration": 10.134696,
     "end_time": "2024-11-15T09:10:24.729971",
     "exception": false,
     "start_time": "2024-11-15T09:10:14.595275",
     "status": "completed"
    },
    "tags": []
   },
   "outputs": [
    {
     "name": "stdout",
     "output_type": "stream",
     "text": [
      "Found 2932 validated image filenames belonging to 2 classes.\n",
      "Found 1150 validated image filenames belonging to 2 classes.\n",
      "Found 518 validated image filenames belonging to 2 classes.\n"
     ]
    }
   ],
   "source": [
    "# Use tensorflows ImageDataGenerator to preprocess the images \n",
    "\n",
    "# rescale parameter will scale pixel values to the range [0,1] \n",
    "image_generator = ImageDataGenerator(\n",
    "    rescale=1./255 # Normalize image pixel values from [0,255] to [0,1]\n",
    ")\n",
    "\n",
    "# Create a data generator for the training set\n",
    "train = image_generator.flow_from_dataframe(\n",
    "    dataframe=train_df,         # DataFrame containing file paths and labels for training data\n",
    "    x_col=\"filepaths\",          # Column in the DataFrame with the file paths to the images\n",
    "    y_col=\"labels\",             # Column in the DataFrame with the labels for the images\n",
    "    target_size=(256, 256),     # Resize all images to 256x256 pixels\n",
    "    color_mode='rgb',           # Load images in RGB format (3 color channels)\n",
    "    class_mode=\"categorical\",   # Generate one-hot encoded labels for multi-class classification\n",
    "    batch_size=64,              # Number of images to generate per batch\n",
    "    shuffle=False               # Do not shuffle the order of images in this generator\n",
    ")\n",
    "\n",
    "# Create a data generator for the test set\n",
    "test = image_generator.flow_from_dataframe(\n",
    "    dataframe=test_df,          # DataFrame containing file paths and labels for test data\n",
    "    x_col=\"filepaths\",          # Column in the DataFrame with the file paths to the images\n",
    "    y_col=\"labels\",             # Column in the DataFrame with the labels for the images\n",
    "    target_size=(256, 256),     # Resize all images to 256x256 pixels\n",
    "    color_mode='rgb',           # Load images in RGB format\n",
    "    class_mode=\"categorical\",   # Generate one-hot encoded labels for evaluation\n",
    "    batch_size=64,              # Number of images to generate per batch\n",
    "    shuffle=False               # Do not shuffle the order, as this is for testing\n",
    ")\n",
    "\n",
    "# Create a data generator for the validation set\n",
    "val = image_generator.flow_from_dataframe(\n",
    "    dataframe=val_df,           # DataFrame containing file paths and labels for validation data\n",
    "    x_col=\"filepaths\",          # Column in the DataFrame with the file paths to the images\n",
    "    y_col=\"labels\",             # Column in the DataFrame with the labels for the images\n",
    "    target_size=(256, 256),     # Resize all images to 256x256 pixels\n",
    "    color_mode='rgb',           # Load images in RGB format\n",
    "    class_mode=\"categorical\",   # Generate one-hot encoded labels for validation\n",
    "    batch_size=64,              # Number of images to generate per batch\n",
    "    shuffle=False               # Do not shuffle the order, as this is for validation\n",
    ")\n"
   ]
  },
  {
   "cell_type": "markdown",
   "id": "20af6771",
   "metadata": {
    "papermill": {
     "duration": 0.012653,
     "end_time": "2024-11-15T09:10:24.755918",
     "exception": false,
     "start_time": "2024-11-15T09:10:24.743265",
     "status": "completed"
    },
    "tags": []
   },
   "source": [
    "# TODO Show Certain Number of images from each class "
   ]
  },
  {
   "cell_type": "code",
   "execution_count": 8,
   "id": "b0c84a9d",
   "metadata": {
    "execution": {
     "iopub.execute_input": "2024-11-15T09:10:24.783943Z",
     "iopub.status.busy": "2024-11-15T09:10:24.783447Z",
     "iopub.status.idle": "2024-11-15T09:10:24.788879Z",
     "shell.execute_reply": "2024-11-15T09:10:24.787645Z"
    },
    "papermill": {
     "duration": 0.022498,
     "end_time": "2024-11-15T09:10:24.791490",
     "exception": false,
     "start_time": "2024-11-15T09:10:24.768992",
     "status": "completed"
    },
    "tags": []
   },
   "outputs": [],
   "source": [
    "#TODO Code to show certain number of images from each class\n"
   ]
  },
  {
   "cell_type": "markdown",
   "id": "ac41f872",
   "metadata": {
    "papermill": {
     "duration": 0.012857,
     "end_time": "2024-11-15T09:10:24.817374",
     "exception": false,
     "start_time": "2024-11-15T09:10:24.804517",
     "status": "completed"
    },
    "tags": []
   },
   "source": [
    "# Create CNN and Compile the model (TODO deepdive into other implementation and understand code better and revise and make our own later) \n",
    "\n",
    "## Don't use ChatGPT Bullshit"
   ]
  },
  {
   "cell_type": "code",
   "execution_count": 9,
   "id": "d1b4f57b",
   "metadata": {
    "execution": {
     "iopub.execute_input": "2024-11-15T09:10:24.845171Z",
     "iopub.status.busy": "2024-11-15T09:10:24.844696Z",
     "iopub.status.idle": "2024-11-15T09:10:25.141890Z",
     "shell.execute_reply": "2024-11-15T09:10:25.140729Z"
    },
    "papermill": {
     "duration": 0.314227,
     "end_time": "2024-11-15T09:10:25.144620",
     "exception": false,
     "start_time": "2024-11-15T09:10:24.830393",
     "status": "completed"
    },
    "tags": []
   },
   "outputs": [
    {
     "name": "stderr",
     "output_type": "stream",
     "text": [
      "/opt/conda/lib/python3.10/site-packages/keras/src/layers/convolutional/base_conv.py:107: UserWarning: Do not pass an `input_shape`/`input_dim` argument to a layer. When using Sequential models, prefer using an `Input(shape)` object as the first layer in the model instead.\n",
      "  super().__init__(activity_regularizer=activity_regularizer, **kwargs)\n"
     ]
    },
    {
     "data": {
      "text/html": [
       "<pre style=\"white-space:pre;overflow-x:auto;line-height:normal;font-family:Menlo,'DejaVu Sans Mono',consolas,'Courier New',monospace\"><span style=\"font-weight: bold\">Model: \"sequential\"</span>\n",
       "</pre>\n"
      ],
      "text/plain": [
       "\u001b[1mModel: \"sequential\"\u001b[0m\n"
      ]
     },
     "metadata": {},
     "output_type": "display_data"
    },
    {
     "data": {
      "text/html": [
       "<pre style=\"white-space:pre;overflow-x:auto;line-height:normal;font-family:Menlo,'DejaVu Sans Mono',consolas,'Courier New',monospace\">┏━━━━━━━━━━━━━━━━━━━━━━━━━━━━━━━━━┳━━━━━━━━━━━━━━━━━━━━━━━━┳━━━━━━━━━━━━━━━┓\n",
       "┃<span style=\"font-weight: bold\"> Layer (type)                    </span>┃<span style=\"font-weight: bold\"> Output Shape           </span>┃<span style=\"font-weight: bold\">       Param # </span>┃\n",
       "┡━━━━━━━━━━━━━━━━━━━━━━━━━━━━━━━━━╇━━━━━━━━━━━━━━━━━━━━━━━━╇━━━━━━━━━━━━━━━┩\n",
       "│ conv2d (<span style=\"color: #0087ff; text-decoration-color: #0087ff\">Conv2D</span>)                 │ (<span style=\"color: #00d7ff; text-decoration-color: #00d7ff\">None</span>, <span style=\"color: #00af00; text-decoration-color: #00af00\">254</span>, <span style=\"color: #00af00; text-decoration-color: #00af00\">254</span>, <span style=\"color: #00af00; text-decoration-color: #00af00\">32</span>)   │           <span style=\"color: #00af00; text-decoration-color: #00af00\">896</span> │\n",
       "├─────────────────────────────────┼────────────────────────┼───────────────┤\n",
       "│ max_pooling2d (<span style=\"color: #0087ff; text-decoration-color: #0087ff\">MaxPooling2D</span>)    │ (<span style=\"color: #00d7ff; text-decoration-color: #00d7ff\">None</span>, <span style=\"color: #00af00; text-decoration-color: #00af00\">127</span>, <span style=\"color: #00af00; text-decoration-color: #00af00\">127</span>, <span style=\"color: #00af00; text-decoration-color: #00af00\">32</span>)   │             <span style=\"color: #00af00; text-decoration-color: #00af00\">0</span> │\n",
       "├─────────────────────────────────┼────────────────────────┼───────────────┤\n",
       "│ conv2d_1 (<span style=\"color: #0087ff; text-decoration-color: #0087ff\">Conv2D</span>)               │ (<span style=\"color: #00d7ff; text-decoration-color: #00d7ff\">None</span>, <span style=\"color: #00af00; text-decoration-color: #00af00\">125</span>, <span style=\"color: #00af00; text-decoration-color: #00af00\">125</span>, <span style=\"color: #00af00; text-decoration-color: #00af00\">64</span>)   │        <span style=\"color: #00af00; text-decoration-color: #00af00\">18,496</span> │\n",
       "├─────────────────────────────────┼────────────────────────┼───────────────┤\n",
       "│ max_pooling2d_1 (<span style=\"color: #0087ff; text-decoration-color: #0087ff\">MaxPooling2D</span>)  │ (<span style=\"color: #00d7ff; text-decoration-color: #00d7ff\">None</span>, <span style=\"color: #00af00; text-decoration-color: #00af00\">62</span>, <span style=\"color: #00af00; text-decoration-color: #00af00\">62</span>, <span style=\"color: #00af00; text-decoration-color: #00af00\">64</span>)     │             <span style=\"color: #00af00; text-decoration-color: #00af00\">0</span> │\n",
       "├─────────────────────────────────┼────────────────────────┼───────────────┤\n",
       "│ conv2d_2 (<span style=\"color: #0087ff; text-decoration-color: #0087ff\">Conv2D</span>)               │ (<span style=\"color: #00d7ff; text-decoration-color: #00d7ff\">None</span>, <span style=\"color: #00af00; text-decoration-color: #00af00\">60</span>, <span style=\"color: #00af00; text-decoration-color: #00af00\">60</span>, <span style=\"color: #00af00; text-decoration-color: #00af00\">128</span>)    │        <span style=\"color: #00af00; text-decoration-color: #00af00\">73,856</span> │\n",
       "├─────────────────────────────────┼────────────────────────┼───────────────┤\n",
       "│ max_pooling2d_2 (<span style=\"color: #0087ff; text-decoration-color: #0087ff\">MaxPooling2D</span>)  │ (<span style=\"color: #00d7ff; text-decoration-color: #00d7ff\">None</span>, <span style=\"color: #00af00; text-decoration-color: #00af00\">30</span>, <span style=\"color: #00af00; text-decoration-color: #00af00\">30</span>, <span style=\"color: #00af00; text-decoration-color: #00af00\">128</span>)    │             <span style=\"color: #00af00; text-decoration-color: #00af00\">0</span> │\n",
       "├─────────────────────────────────┼────────────────────────┼───────────────┤\n",
       "│ flatten (<span style=\"color: #0087ff; text-decoration-color: #0087ff\">Flatten</span>)               │ (<span style=\"color: #00d7ff; text-decoration-color: #00d7ff\">None</span>, <span style=\"color: #00af00; text-decoration-color: #00af00\">115200</span>)         │             <span style=\"color: #00af00; text-decoration-color: #00af00\">0</span> │\n",
       "├─────────────────────────────────┼────────────────────────┼───────────────┤\n",
       "│ dense (<span style=\"color: #0087ff; text-decoration-color: #0087ff\">Dense</span>)                   │ (<span style=\"color: #00d7ff; text-decoration-color: #00d7ff\">None</span>, <span style=\"color: #00af00; text-decoration-color: #00af00\">128</span>)            │    <span style=\"color: #00af00; text-decoration-color: #00af00\">14,745,728</span> │\n",
       "├─────────────────────────────────┼────────────────────────┼───────────────┤\n",
       "│ dropout (<span style=\"color: #0087ff; text-decoration-color: #0087ff\">Dropout</span>)               │ (<span style=\"color: #00d7ff; text-decoration-color: #00d7ff\">None</span>, <span style=\"color: #00af00; text-decoration-color: #00af00\">128</span>)            │             <span style=\"color: #00af00; text-decoration-color: #00af00\">0</span> │\n",
       "├─────────────────────────────────┼────────────────────────┼───────────────┤\n",
       "│ dense_1 (<span style=\"color: #0087ff; text-decoration-color: #0087ff\">Dense</span>)                 │ (<span style=\"color: #00d7ff; text-decoration-color: #00d7ff\">None</span>, <span style=\"color: #00af00; text-decoration-color: #00af00\">2</span>)              │           <span style=\"color: #00af00; text-decoration-color: #00af00\">258</span> │\n",
       "└─────────────────────────────────┴────────────────────────┴───────────────┘\n",
       "</pre>\n"
      ],
      "text/plain": [
       "┏━━━━━━━━━━━━━━━━━━━━━━━━━━━━━━━━━┳━━━━━━━━━━━━━━━━━━━━━━━━┳━━━━━━━━━━━━━━━┓\n",
       "┃\u001b[1m \u001b[0m\u001b[1mLayer (type)                   \u001b[0m\u001b[1m \u001b[0m┃\u001b[1m \u001b[0m\u001b[1mOutput Shape          \u001b[0m\u001b[1m \u001b[0m┃\u001b[1m \u001b[0m\u001b[1m      Param #\u001b[0m\u001b[1m \u001b[0m┃\n",
       "┡━━━━━━━━━━━━━━━━━━━━━━━━━━━━━━━━━╇━━━━━━━━━━━━━━━━━━━━━━━━╇━━━━━━━━━━━━━━━┩\n",
       "│ conv2d (\u001b[38;5;33mConv2D\u001b[0m)                 │ (\u001b[38;5;45mNone\u001b[0m, \u001b[38;5;34m254\u001b[0m, \u001b[38;5;34m254\u001b[0m, \u001b[38;5;34m32\u001b[0m)   │           \u001b[38;5;34m896\u001b[0m │\n",
       "├─────────────────────────────────┼────────────────────────┼───────────────┤\n",
       "│ max_pooling2d (\u001b[38;5;33mMaxPooling2D\u001b[0m)    │ (\u001b[38;5;45mNone\u001b[0m, \u001b[38;5;34m127\u001b[0m, \u001b[38;5;34m127\u001b[0m, \u001b[38;5;34m32\u001b[0m)   │             \u001b[38;5;34m0\u001b[0m │\n",
       "├─────────────────────────────────┼────────────────────────┼───────────────┤\n",
       "│ conv2d_1 (\u001b[38;5;33mConv2D\u001b[0m)               │ (\u001b[38;5;45mNone\u001b[0m, \u001b[38;5;34m125\u001b[0m, \u001b[38;5;34m125\u001b[0m, \u001b[38;5;34m64\u001b[0m)   │        \u001b[38;5;34m18,496\u001b[0m │\n",
       "├─────────────────────────────────┼────────────────────────┼───────────────┤\n",
       "│ max_pooling2d_1 (\u001b[38;5;33mMaxPooling2D\u001b[0m)  │ (\u001b[38;5;45mNone\u001b[0m, \u001b[38;5;34m62\u001b[0m, \u001b[38;5;34m62\u001b[0m, \u001b[38;5;34m64\u001b[0m)     │             \u001b[38;5;34m0\u001b[0m │\n",
       "├─────────────────────────────────┼────────────────────────┼───────────────┤\n",
       "│ conv2d_2 (\u001b[38;5;33mConv2D\u001b[0m)               │ (\u001b[38;5;45mNone\u001b[0m, \u001b[38;5;34m60\u001b[0m, \u001b[38;5;34m60\u001b[0m, \u001b[38;5;34m128\u001b[0m)    │        \u001b[38;5;34m73,856\u001b[0m │\n",
       "├─────────────────────────────────┼────────────────────────┼───────────────┤\n",
       "│ max_pooling2d_2 (\u001b[38;5;33mMaxPooling2D\u001b[0m)  │ (\u001b[38;5;45mNone\u001b[0m, \u001b[38;5;34m30\u001b[0m, \u001b[38;5;34m30\u001b[0m, \u001b[38;5;34m128\u001b[0m)    │             \u001b[38;5;34m0\u001b[0m │\n",
       "├─────────────────────────────────┼────────────────────────┼───────────────┤\n",
       "│ flatten (\u001b[38;5;33mFlatten\u001b[0m)               │ (\u001b[38;5;45mNone\u001b[0m, \u001b[38;5;34m115200\u001b[0m)         │             \u001b[38;5;34m0\u001b[0m │\n",
       "├─────────────────────────────────┼────────────────────────┼───────────────┤\n",
       "│ dense (\u001b[38;5;33mDense\u001b[0m)                   │ (\u001b[38;5;45mNone\u001b[0m, \u001b[38;5;34m128\u001b[0m)            │    \u001b[38;5;34m14,745,728\u001b[0m │\n",
       "├─────────────────────────────────┼────────────────────────┼───────────────┤\n",
       "│ dropout (\u001b[38;5;33mDropout\u001b[0m)               │ (\u001b[38;5;45mNone\u001b[0m, \u001b[38;5;34m128\u001b[0m)            │             \u001b[38;5;34m0\u001b[0m │\n",
       "├─────────────────────────────────┼────────────────────────┼───────────────┤\n",
       "│ dense_1 (\u001b[38;5;33mDense\u001b[0m)                 │ (\u001b[38;5;45mNone\u001b[0m, \u001b[38;5;34m2\u001b[0m)              │           \u001b[38;5;34m258\u001b[0m │\n",
       "└─────────────────────────────────┴────────────────────────┴───────────────┘\n"
      ]
     },
     "metadata": {},
     "output_type": "display_data"
    },
    {
     "data": {
      "text/html": [
       "<pre style=\"white-space:pre;overflow-x:auto;line-height:normal;font-family:Menlo,'DejaVu Sans Mono',consolas,'Courier New',monospace\"><span style=\"font-weight: bold\"> Total params: </span><span style=\"color: #00af00; text-decoration-color: #00af00\">14,839,234</span> (56.61 MB)\n",
       "</pre>\n"
      ],
      "text/plain": [
       "\u001b[1m Total params: \u001b[0m\u001b[38;5;34m14,839,234\u001b[0m (56.61 MB)\n"
      ]
     },
     "metadata": {},
     "output_type": "display_data"
    },
    {
     "data": {
      "text/html": [
       "<pre style=\"white-space:pre;overflow-x:auto;line-height:normal;font-family:Menlo,'DejaVu Sans Mono',consolas,'Courier New',monospace\"><span style=\"font-weight: bold\"> Trainable params: </span><span style=\"color: #00af00; text-decoration-color: #00af00\">14,839,234</span> (56.61 MB)\n",
       "</pre>\n"
      ],
      "text/plain": [
       "\u001b[1m Trainable params: \u001b[0m\u001b[38;5;34m14,839,234\u001b[0m (56.61 MB)\n"
      ]
     },
     "metadata": {},
     "output_type": "display_data"
    },
    {
     "data": {
      "text/html": [
       "<pre style=\"white-space:pre;overflow-x:auto;line-height:normal;font-family:Menlo,'DejaVu Sans Mono',consolas,'Courier New',monospace\"><span style=\"font-weight: bold\"> Non-trainable params: </span><span style=\"color: #00af00; text-decoration-color: #00af00\">0</span> (0.00 B)\n",
       "</pre>\n"
      ],
      "text/plain": [
       "\u001b[1m Non-trainable params: \u001b[0m\u001b[38;5;34m0\u001b[0m (0.00 B)\n"
      ]
     },
     "metadata": {},
     "output_type": "display_data"
    }
   ],
   "source": [
    "import tensorflow as tf\n",
    "from tensorflow.keras.models import Sequential\n",
    "from tensorflow.keras.layers import Conv2D, MaxPooling2D, Flatten, Dense, Dropout\n",
    "from tensorflow.keras.optimizers import Adam\n",
    "\n",
    "# Define the CNN model\n",
    "model = Sequential([\n",
    "    Conv2D(32, (3, 3), activation='relu', input_shape=(256, 256, 3)),  # First Conv Layer\n",
    "    MaxPooling2D((2, 2)),                                               # Max Pooling\n",
    "    Conv2D(64, (3, 3), activation='relu'),                              # Second Conv Layer\n",
    "    MaxPooling2D((2, 2)),                                               # Max Pooling\n",
    "    Conv2D(128, (3, 3), activation='relu'),                             # Third Conv Layer\n",
    "    MaxPooling2D((2, 2)),                                               # Max Pooling\n",
    "    Flatten(),                                                          # Flatten the output\n",
    "    Dense(128, activation='relu'),                                      # Fully Connected Layer\n",
    "    Dropout(0.5),                                                       # Dropout for regularization\n",
    "    Dense(len(train.class_indices), activation='softmax')               # Output layer with softmax activation\n",
    "])\n",
    "\n",
    "# Compile the model\n",
    "model.compile(\n",
    "    optimizer=Adam(),\n",
    "    loss='categorical_crossentropy',   # Since it's multi-class classification\n",
    "    metrics=['accuracy']\n",
    ")\n",
    "\n",
    "# Summary of the model architecture\n",
    "model.summary()\n"
   ]
  },
  {
   "cell_type": "markdown",
   "id": "ac49985a",
   "metadata": {
    "papermill": {
     "duration": 0.013909,
     "end_time": "2024-11-15T09:10:25.173185",
     "exception": false,
     "start_time": "2024-11-15T09:10:25.159276",
     "status": "completed"
    },
    "tags": []
   },
   "source": [
    "# Train the Model"
   ]
  },
  {
   "cell_type": "code",
   "execution_count": 10,
   "id": "8f10c481",
   "metadata": {
    "execution": {
     "iopub.execute_input": "2024-11-15T09:10:25.205402Z",
     "iopub.status.busy": "2024-11-15T09:10:25.204959Z",
     "iopub.status.idle": "2024-11-15T09:29:19.719128Z",
     "shell.execute_reply": "2024-11-15T09:29:19.717880Z"
    },
    "papermill": {
     "duration": 1134.535162,
     "end_time": "2024-11-15T09:29:19.722524",
     "exception": false,
     "start_time": "2024-11-15T09:10:25.187362",
     "status": "completed"
    },
    "tags": []
   },
   "outputs": [
    {
     "name": "stdout",
     "output_type": "stream",
     "text": [
      "Epoch 1/10\n"
     ]
    },
    {
     "name": "stderr",
     "output_type": "stream",
     "text": [
      "/opt/conda/lib/python3.10/site-packages/keras/src/trainers/data_adapters/py_dataset_adapter.py:121: UserWarning: Your `PyDataset` class should call `super().__init__(**kwargs)` in its constructor. `**kwargs` can include `workers`, `use_multiprocessing`, `max_queue_size`. Do not pass these arguments to `fit()`, as they will be ignored.\n",
      "  self._warn_if_super_not_called()\n"
     ]
    },
    {
     "name": "stdout",
     "output_type": "stream",
     "text": [
      "\u001b[1m45/45\u001b[0m \u001b[32m━━━━━━━━━━━━━━━━━━━━\u001b[0m\u001b[37m\u001b[0m \u001b[1m227s\u001b[0m 5s/step - accuracy: 0.6217 - loss: 0.8927 - val_accuracy: 0.8164 - val_loss: 0.4475\n",
      "Epoch 2/10\n",
      "\u001b[1m45/45\u001b[0m \u001b[32m━━━━━━━━━━━━━━━━━━━━\u001b[0m\u001b[37m\u001b[0m \u001b[1m5s\u001b[0m 3ms/step - accuracy: 0.6875 - loss: 0.5446 - val_accuracy: 0.5000 - val_loss: 0.6200\n",
      "Epoch 3/10\n"
     ]
    },
    {
     "name": "stderr",
     "output_type": "stream",
     "text": [
      "/opt/conda/lib/python3.10/contextlib.py:153: UserWarning: Your input ran out of data; interrupting training. Make sure that your dataset or generator can generate at least `steps_per_epoch * epochs` batches. You may need to use the `.repeat()` function when building your dataset.\n",
      "  self.gen.throw(typ, value, traceback)\n"
     ]
    },
    {
     "name": "stdout",
     "output_type": "stream",
     "text": [
      "\u001b[1m45/45\u001b[0m \u001b[32m━━━━━━━━━━━━━━━━━━━━\u001b[0m\u001b[37m\u001b[0m \u001b[1m221s\u001b[0m 5s/step - accuracy: 0.8281 - loss: 0.3939 - val_accuracy: 0.8730 - val_loss: 0.2800\n",
      "Epoch 4/10\n",
      "\u001b[1m45/45\u001b[0m \u001b[32m━━━━━━━━━━━━━━━━━━━━\u001b[0m\u001b[37m\u001b[0m \u001b[1m5s\u001b[0m 3ms/step - accuracy: 0.8594 - loss: 0.3033 - val_accuracy: 0.8333 - val_loss: 0.3856\n",
      "Epoch 5/10\n",
      "\u001b[1m45/45\u001b[0m \u001b[32m━━━━━━━━━━━━━━━━━━━━\u001b[0m\u001b[37m\u001b[0m \u001b[1m221s\u001b[0m 5s/step - accuracy: 0.8989 - loss: 0.2613 - val_accuracy: 0.9102 - val_loss: 0.2132\n",
      "Epoch 6/10\n",
      "\u001b[1m45/45\u001b[0m \u001b[32m━━━━━━━━━━━━━━━━━━━━\u001b[0m\u001b[37m\u001b[0m \u001b[1m5s\u001b[0m 3ms/step - accuracy: 0.9375 - loss: 0.1543 - val_accuracy: 0.8333 - val_loss: 0.3627\n",
      "Epoch 7/10\n",
      "\u001b[1m45/45\u001b[0m \u001b[32m━━━━━━━━━━━━━━━━━━━━\u001b[0m\u001b[37m\u001b[0m \u001b[1m220s\u001b[0m 5s/step - accuracy: 0.9441 - loss: 0.1566 - val_accuracy: 0.9414 - val_loss: 0.1737\n",
      "Epoch 8/10\n",
      "\u001b[1m45/45\u001b[0m \u001b[32m━━━━━━━━━━━━━━━━━━━━\u001b[0m\u001b[37m\u001b[0m \u001b[1m5s\u001b[0m 3ms/step - accuracy: 0.9688 - loss: 0.0632 - val_accuracy: 0.8333 - val_loss: 0.3527\n",
      "Epoch 9/10\n",
      "\u001b[1m45/45\u001b[0m \u001b[32m━━━━━━━━━━━━━━━━━━━━\u001b[0m\u001b[37m\u001b[0m \u001b[1m221s\u001b[0m 5s/step - accuracy: 0.9672 - loss: 0.0950 - val_accuracy: 0.9434 - val_loss: 0.1850\n",
      "Epoch 10/10\n",
      "\u001b[1m45/45\u001b[0m \u001b[32m━━━━━━━━━━━━━━━━━━━━\u001b[0m\u001b[37m\u001b[0m \u001b[1m5s\u001b[0m 3ms/step - accuracy: 0.9844 - loss: 0.0669 - val_accuracy: 0.8333 - val_loss: 0.3897\n"
     ]
    }
   ],
   "source": [
    "# Train the model\n",
    "history = model.fit(\n",
    "    train,                           # Training data\n",
    "    epochs=10,                        # Number of epochs\n",
    "    validation_data=val,              # Validation data\n",
    "    steps_per_epoch=train.samples // train.batch_size,    # Steps per epoch\n",
    "    validation_steps=val.samples // val.batch_size,        # Validation steps\n",
    "    verbose=1\n",
    ")\n",
    "\n",
    "# Save the trained model (optional)\n",
    "model.save('cnn_model.h5')\n"
   ]
  },
  {
   "cell_type": "code",
   "execution_count": 11,
   "id": "7b115bde",
   "metadata": {
    "execution": {
     "iopub.execute_input": "2024-11-15T09:29:19.813562Z",
     "iopub.status.busy": "2024-11-15T09:29:19.812489Z",
     "iopub.status.idle": "2024-11-15T09:30:02.152079Z",
     "shell.execute_reply": "2024-11-15T09:30:02.150665Z"
    },
    "papermill": {
     "duration": 42.439692,
     "end_time": "2024-11-15T09:30:02.211787",
     "exception": false,
     "start_time": "2024-11-15T09:29:19.772095",
     "status": "completed"
    },
    "tags": []
   },
   "outputs": [
    {
     "name": "stdout",
     "output_type": "stream",
     "text": [
      "\u001b[1m18/18\u001b[0m \u001b[32m━━━━━━━━━━━━━━━━━━━━\u001b[0m\u001b[37m\u001b[0m \u001b[1m27s\u001b[0m 1s/step - accuracy: 0.9414 - loss: 0.1474\n",
      "Test Loss: 0.16359619796276093\n",
      "Test Accuracy: 0.9426087141036987\n"
     ]
    }
   ],
   "source": [
    "loss, accuracy = model.evaluate(test)\n",
    "print(\"Test Loss:\", loss)\n",
    "print(\"Test Accuracy:\", accuracy)"
   ]
  },
  {
   "cell_type": "markdown",
   "id": "46cff673",
   "metadata": {
    "papermill": {
     "duration": 0.04018,
     "end_time": "2024-11-15T09:30:02.303307",
     "exception": false,
     "start_time": "2024-11-15T09:30:02.263127",
     "status": "completed"
    },
    "tags": []
   },
   "source": [
    "## Create plots of training and validation accuracy as a fucntion of the number of apochs as well as training and validation as a function of the number of epochs"
   ]
  },
  {
   "cell_type": "code",
   "execution_count": 12,
   "id": "5c2471a8",
   "metadata": {
    "execution": {
     "iopub.execute_input": "2024-11-15T09:30:02.386873Z",
     "iopub.status.busy": "2024-11-15T09:30:02.386392Z",
     "iopub.status.idle": "2024-11-15T09:30:03.158443Z",
     "shell.execute_reply": "2024-11-15T09:30:03.157152Z"
    },
    "papermill": {
     "duration": 0.816765,
     "end_time": "2024-11-15T09:30:03.161241",
     "exception": false,
     "start_time": "2024-11-15T09:30:02.344476",
     "status": "completed"
    },
    "tags": []
   },
   "outputs": [
    {
     "data": {
      "image/png": "[encoded data removed]",
      "text/plain": [
       "<Figure size 1400x500 with 2 Axes>"
      ]
     },
     "metadata": {},
     "output_type": "display_data"
    }
   ],
   "source": [
    "import matplotlib.pyplot as plt\n",
    "\n",
    "# Retrieve accuracy and loss data from history\n",
    "train_accuracy = history.history['accuracy']\n",
    "val_accuracy = history.history['val_accuracy']\n",
    "train_loss = history.history['loss']\n",
    "val_loss = history.history['val_loss']\n",
    "\n",
    "# Create a figure with two subplots: one for accuracy and one for loss\n",
    "plt.figure(figsize=(14, 5))\n",
    "\n",
    "# Plot training and validation accuracy\n",
    "plt.subplot(1, 2, 1)\n",
    "plt.plot(train_accuracy, label='Training Accuracy', color='blue')\n",
    "plt.plot(val_accuracy, label='Validation Accuracy', color='orange')\n",
    "plt.xlabel('Epoch')\n",
    "plt.ylabel('Accuracy')\n",
    "plt.title('Training and Validation Accuracy')\n",
    "plt.legend()\n",
    "\n",
    "# Plot training and validation loss\n",
    "plt.subplot(1, 2, 2)\n",
    "plt.plot(train_loss, label='Training Loss', color='blue')\n",
    "plt.plot(val_loss, label='Validation Loss', color='orange')\n",
    "plt.xlabel('Epoch')\n",
    "plt.ylabel('Loss')\n",
    "plt.title('Training and Validation Loss')\n",
    "plt.legend()\n",
    "\n",
    "# Adjust layout to prevent overlapping\n",
    "plt.tight_layout()\n",
    "\n",
    "# Display the plot\n",
    "plt.show()\n"
   ]
  },
  {
   "cell_type": "markdown",
   "id": "d0334dcb",
   "metadata": {
    "papermill": {
     "duration": 0.041597,
     "end_time": "2024-11-15T09:30:03.245131",
     "exception": false,
     "start_time": "2024-11-15T09:30:03.203534",
     "status": "completed"
    },
    "tags": []
   },
   "source": [
    "# Create Confusion Matrix\n"
   ]
  },
  {
   "cell_type": "code",
   "execution_count": 13,
   "id": "ffa733e4",
   "metadata": {
    "execution": {
     "iopub.execute_input": "2024-11-15T09:30:03.329977Z",
     "iopub.status.busy": "2024-11-15T09:30:03.329498Z",
     "iopub.status.idle": "2024-11-15T09:30:31.789131Z",
     "shell.execute_reply": "2024-11-15T09:30:31.787815Z"
    },
    "papermill": {
     "duration": 28.50549,
     "end_time": "2024-11-15T09:30:31.792094",
     "exception": false,
     "start_time": "2024-11-15T09:30:03.286604",
     "status": "completed"
    },
    "tags": []
   },
   "outputs": [
    {
     "name": "stdout",
     "output_type": "stream",
     "text": [
      "\u001b[1m18/18\u001b[0m \u001b[32m━━━━━━━━━━━━━━━━━━━━\u001b[0m\u001b[37m\u001b[0m \u001b[1m27s\u001b[0m 1s/step\n"
     ]
    },
    {
     "data": {
      "image/png": "[encoded data removed]",
      "text/plain": [
       "<Figure size 800x800 with 2 Axes>"
      ]
     },
     "metadata": {},
     "output_type": "display_data"
    }
   ],
   "source": [
    "from sklearn.metrics import confusion_matrix\n",
    "import numpy as np\n",
    "\n",
    "# Get predictions for the test data\n",
    "y_pred = model.predict(test)\n",
    "y_pred_classes = np.argmax(y_pred, axis=1)\n",
    "\n",
    "# Get true labels for the test data\n",
    "true_classes = test.classes\n",
    "\n",
    "# Compute confusion matrix\n",
    "conf_matrix = confusion_matrix(true_classes, y_pred_classes)\n",
    "\n",
    "# Plot confusion matrix\n",
    "import seaborn as sns\n",
    "import matplotlib.pyplot as plt\n",
    "\n",
    "plt.figure(figsize=(8, 8))\n",
    "sns.heatmap(conf_matrix, annot=True, fmt='d', cmap='Blues', square=True, \n",
    "            xticklabels=test.class_indices.keys(), yticklabels=test.class_indices.keys())\n",
    "plt.xlabel('Predicted')\n",
    "plt.ylabel('Actual')\n",
    "plt.title('Confusion Matrix')\n",
    "plt.show()"
   ]
  },
  {
   "cell_type": "markdown",
   "id": "57e6ebdb",
   "metadata": {
    "papermill": {
     "duration": 0.043523,
     "end_time": "2024-11-15T09:30:31.879878",
     "exception": false,
     "start_time": "2024-11-15T09:30:31.836355",
     "status": "completed"
    },
    "tags": []
   },
   "source": []
  },
  {
   "cell_type": "markdown",
   "id": "32fac6d5",
   "metadata": {
    "papermill": {
     "duration": 0.046541,
     "end_time": "2024-11-15T09:30:31.970005",
     "exception": false,
     "start_time": "2024-11-15T09:30:31.923464",
     "status": "completed"
    },
    "tags": []
   },
   "source": [
    "## What we know so far: \n",
    "The model is working and it is around 94.7% accurate. "
   ]
  },
  {
   "cell_type": "markdown",
   "id": "b8398ca3",
   "metadata": {
    "papermill": {
     "duration": 0.04693,
     "end_time": "2024-11-15T09:30:32.061162",
     "exception": false,
     "start_time": "2024-11-15T09:30:32.014232",
     "status": "completed"
    },
    "tags": []
   },
   "source": [
    "## Kaggle Setup"
   ]
  },
  {
   "cell_type": "code",
   "execution_count": 14,
   "id": "e972c739",
   "metadata": {
    "execution": {
     "iopub.execute_input": "2024-11-15T09:30:32.152692Z",
     "iopub.status.busy": "2024-11-15T09:30:32.151382Z",
     "iopub.status.idle": "2024-11-15T09:30:33.158794Z",
     "shell.execute_reply": "2024-11-15T09:30:33.157564Z"
    },
    "papermill": {
     "duration": 1.055694,
     "end_time": "2024-11-15T09:30:33.161529",
     "exception": false,
     "start_time": "2024-11-15T09:30:32.105835",
     "status": "completed"
    },
    "tags": []
   },
   "outputs": [
    {
     "name": "stdout",
     "output_type": "stream",
     "text": [
      "Files in '/kaggle/input':\n",
      "/kaggle/input/brian-tumor-dataset/metadata_rgb_only.csv\n",
      "/kaggle/input/brian-tumor-dataset/metadata.csv\n",
      "/kaggle/input/brian-tumor-dataset/Brain Tumor Data Set/Brain Tumor Data Set/Brain Tumor/Cancer (489).jpg\n",
      "/kaggle/input/brian-tumor-dataset/Brain Tumor Data Set/Brain Tumor Data Set/Brain Tumor/Cancer (72).tif\n",
      "/kaggle/input/brian-tumor-dataset/Brain Tumor Data Set/Brain Tumor Data Set/Brain Tumor/Cancer (2411).jpg\n",
      "/kaggle/input/brian-tumor-dataset/Brain Tumor Data Set/Brain Tumor Data Set/Brain Tumor/Cancer (1065).jpg\n",
      "/kaggle/input/brian-tumor-dataset/Brain Tumor Data Set/Brain Tumor Data Set/Brain Tumor/Cancer (1014).jpg\n",
      "/kaggle/input/brian-tumor-dataset/Brain Tumor Data Set/Brain Tumor Data Set/Brain Tumor/Cancer (385).jpg\n",
      "/kaggle/input/brian-tumor-dataset/Brain Tumor Data Set/Brain Tumor Data Set/Brain Tumor/Cancer (1822).jpg\n",
      "/kaggle/input/brian-tumor-dataset/Brain Tumor Data Set/Brain Tumor Data Set/Brain Tumor/Cancer (2023).jpg\n",
      "/kaggle/input/brian-tumor-dataset/Brain Tumor Data Set/Brain Tumor Data Set/Brain Tumor/Cancer (84).jpg\n",
      "/kaggle/input/brian-tumor-dataset/Brain Tumor Data Set/Brain Tumor Data Set/Brain Tumor/Cancer (657).jpg\n",
      "/kaggle/input/brian-tumor-dataset/Brain Tumor Data Set/Brain Tumor Data Set/Brain Tumor/Cancer (1258).jpg\n",
      "/kaggle/input/brian-tumor-dataset/Brain Tumor Data Set/Brain Tumor Data Set/Brain Tumor/Cancer (926).jpg\n",
      "/kaggle/input/brian-tumor-dataset/Brain Tumor Data Set/Brain Tumor Data Set/Brain Tumor/Cancer (1684).jpg\n",
      "/kaggle/input/brian-tumor-dataset/Brain Tumor Data Set/Brain Tumor Data Set/Brain Tumor/Cancer (715).jpg\n",
      "/kaggle/input/brian-tumor-dataset/Brain Tumor Data Set/Brain Tumor Data Set/Brain Tumor/Cancer (1526).jpg\n",
      "/kaggle/input/brian-tumor-dataset/Brain Tumor Data Set/Brain Tumor Data Set/Brain Tumor/Cancer (1722).jpg\n",
      "/kaggle/input/brian-tumor-dataset/Brain Tumor Data Set/Brain Tumor Data Set/Brain Tumor/Cancer (475).jpg\n",
      "/kaggle/input/brian-tumor-dataset/Brain Tumor Data Set/Brain Tumor Data Set/Brain Tumor/Cancer (86).jpg\n",
      "...\n"
     ]
    }
   ],
   "source": [
    "# List files in input directory\n",
    "input_files = []\n",
    "\n",
    "for dirname, _, filenames in os.walk(KAGGLE_INPUT):\n",
    "    for filename in filenames:\n",
    "        input_files.append(os.path.join(dirname, filename))\n",
    "\n",
    "# Display the first n files, then indicate if more exist\n",
    "display_count = 20\n",
    "\n",
    "print(\"Files in '/kaggle/input':\")\n",
    "print(\"\\n\".join(input_files[:display_count]))\n",
    "if len(input_files) > display_count:\n",
    "    print(\"...\")\n",
    "\n",
    "# You can write up to 20GB to the current directory (/kaggle/working/) that gets preserved as output when you create a version using \"Save & Run All\" \n",
    "# You can also write temporary files to /kaggle/temp/, but they won't be saved outside of the current session"
   ]
  },
  {
   "cell_type": "markdown",
   "id": "2b0c820b",
   "metadata": {
    "execution": {
     "iopub.execute_input": "2024-11-08T22:46:21.499603Z",
     "iopub.status.busy": "2024-11-08T22:46:21.498585Z",
     "iopub.status.idle": "2024-11-08T22:46:21.503913Z",
     "shell.execute_reply": "2024-11-08T22:46:21.502731Z",
     "shell.execute_reply.started": "2024-11-08T22:46:21.499559Z"
    },
    "papermill": {
     "duration": 0.044151,
     "end_time": "2024-11-15T09:30:33.250205",
     "exception": false,
     "start_time": "2024-11-15T09:30:33.206054",
     "status": "completed"
    },
    "tags": []
   },
   "source": [
    "## Helpers"
   ]
  },
  {
   "cell_type": "code",
   "execution_count": 15,
   "id": "34596a7f",
   "metadata": {
    "execution": {
     "iopub.execute_input": "2024-11-15T09:30:33.339869Z",
     "iopub.status.busy": "2024-11-15T09:30:33.339390Z",
     "iopub.status.idle": "2024-11-15T09:30:33.357887Z",
     "shell.execute_reply": "2024-11-15T09:30:33.356635Z"
    },
    "papermill": {
     "duration": 0.066188,
     "end_time": "2024-11-15T09:30:33.360398",
     "exception": false,
     "start_time": "2024-11-15T09:30:33.294210",
     "status": "completed"
    },
    "tags": []
   },
   "outputs": [],
   "source": [
    "# ---------- Data Visualization Helpers ---------- #\n",
    "\"\"\"\n",
    "view_df_head() ---------------- print sample data from df\n",
    "view_df_summary_pie_chart() --- print pie chart summary\n",
    "view_df_summary_table() ------- print table summary\n",
    "view_df_summary() ------------- shortcut to view head+pie+table summary with one call\n",
    "\n",
    "See below for extra documentation and use examples.\n",
    "\"\"\"\n",
    "\n",
    "def view_df_head(df, title=None):\n",
    "    if title: \n",
    "        print(f\"{title}:\")\n",
    "    print(df.head().to_markdown(),'\\n')\n",
    "\n",
    "def view_df_summary_pie_chart(df=None, cc=None, title=None, size=2):\n",
    "    \"\"\"\n",
    "    Helper to visualize dataset makeup with a pie chart\n",
    "    \"\"\"\n",
    "    \n",
    "    # Handle Parameters\n",
    "    if df is not None: \n",
    "        class_data = df['class'].value_counts()\n",
    "    \n",
    "    elif cc is not None: \n",
    "        class_data = cc\n",
    "    \n",
    "    else: \n",
    "        raise ValueError(\"Provide input data frame (df) or class counts (cc).\")\n",
    "\n",
    "    # -- Plot --\n",
    "    # Setup Figure\n",
    "    fig, ax = plt.subplots(figsize=(size,size))  # Pie chart size can be controlled here\n",
    "    # Plot the pie chart\n",
    "    ax.pie(class_data, labels=class_data.index, autopct='%1.1f%%', startangle=90, colors=plt.cm.Paired.colors)\n",
    "    # Equal aspect ratio ensures the pie chart is drawn as a circle\n",
    "    ax.axis('equal')\n",
    "    # Display the pie chart and optional title\n",
    "    if title: \n",
    "        print(f\"{title}:\")\n",
    "    plt.show()\n",
    "\n",
    "def view_df_summary_table(df, title=None):\n",
    "    \"\"\"\n",
    "    Generates a summary table of class counts from the given DataFrame\n",
    "    \"\"\"\n",
    "    # ----- Fetch and Calculate Summary Data ----- #\n",
    "    \n",
    "    # Get class-count + total_count data\n",
    "    class_counts = df['class'].value_counts()\n",
    "    total_count = class_counts.sum()\n",
    "    # Calculate percentages based on class-count data\n",
    "    percentages = (class_counts / total_count * 100).round(1)  # Round percentages\n",
    "    \n",
    "    # Calculate and append \"Total\" row\n",
    "    class_counts = pd.concat([class_counts, pd.Series({\"Total\": total_count})])\n",
    "    percentages = pd.concat([percentages, pd.Series({\"Total\": 100.0})])\n",
    "\n",
    "    # ----- Format and Prepare Summary Data ----- #\n",
    "    \n",
    "     # Populate data dictionary\n",
    "    data = {\n",
    "        \"Attribute\": class_counts.index.tolist(),\n",
    "        \"Count\": class_counts.values.tolist(),\n",
    "        \"Percentage (%)\": percentages.values.tolist()\n",
    "    }\n",
    "\n",
    "    # Convert to DataFrame info_df\n",
    "    info_df = pd.DataFrame(data)\n",
    "\n",
    "    # ----- Display Summary Data ----- #\n",
    "    \n",
    "    # Display title if available\n",
    "    if title: info_df.name = title\n",
    "    \n",
    "    # Display info_df with fancy format\n",
    "    if title: print(f\"{info_df.name}:\")\n",
    "    print(info_df.to_markdown(index=False, tablefmt=\"fancy_grid\"))\n",
    "\n",
    "def view_df_summary(df, title=None, pie_size=2):\n",
    "    \"\"\"\n",
    "    Helper to print a table and a pie chart to summarize a given DataFrame\n",
    "    \"\"\"\n",
    "    view_df_summary_table(df, title=f\"Summary\") \n",
    "    view_df_summary_pie_chart(df, title=f\"Pie Chart\", size=pie_size)\n",
    "    view_df_head(df, title=f\"Sample Data\")\n",
    "    print()\n",
    "\n",
    "# ---------- Example Uses, Templates, Documentation ---------- #\n",
    "\n",
    "# # Example Uses:\n",
    "# view_df_head(df, \"optional title\")\n",
    "# view_df_summary_table(df, \"optional title\")\n",
    "# view_df_summary_pie_chart(df, title=\"optional title\", size=2)\n",
    "# view_df_summary(df)\n",
    "\n",
    "# # Flexible Template to Copy and Use:\n",
    "# print(\"DataTitle:\",'\\n')\n",
    "# view_df_head(labels_df, \"Sample Data\")\n",
    "# view_df_summary_table(labels_df, \"Summary\")\n",
    "# print('\\n')"
   ]
  },
  {
   "cell_type": "markdown",
   "id": "605680a9",
   "metadata": {
    "papermill": {
     "duration": 0.043227,
     "end_time": "2024-11-15T09:30:33.447861",
     "exception": false,
     "start_time": "2024-11-15T09:30:33.404634",
     "status": "completed"
    },
    "tags": []
   },
   "source": [
    "# Data"
   ]
  },
  {
   "cell_type": "markdown",
   "id": "9e65782f",
   "metadata": {
    "papermill": {
     "duration": 0.044497,
     "end_time": "2024-11-15T09:30:33.536294",
     "exception": false,
     "start_time": "2024-11-15T09:30:33.491797",
     "status": "completed"
    },
    "tags": []
   },
   "source": [
    "**Description writeup:** TODO"
   ]
  },
  {
   "cell_type": "markdown",
   "id": "9ed98fd4",
   "metadata": {
    "papermill": {
     "duration": 0.044231,
     "end_time": "2024-11-15T09:30:33.625298",
     "exception": false,
     "start_time": "2024-11-15T09:30:33.581067",
     "status": "completed"
    },
    "tags": []
   },
   "source": [
    "## Load Data"
   ]
  },
  {
   "cell_type": "code",
   "execution_count": 16,
   "id": "5c9987a2",
   "metadata": {
    "execution": {
     "iopub.execute_input": "2024-11-15T09:30:33.715299Z",
     "iopub.status.busy": "2024-11-15T09:30:33.714765Z",
     "iopub.status.idle": "2024-11-15T09:30:33.739565Z",
     "shell.execute_reply": "2024-11-15T09:30:33.738224Z"
    },
    "papermill": {
     "duration": 0.073109,
     "end_time": "2024-11-15T09:30:33.742473",
     "exception": false,
     "start_time": "2024-11-15T09:30:33.669364",
     "status": "completed"
    },
    "tags": []
   },
   "outputs": [],
   "source": [
    "# Load Data into DataFrame\n",
    "labels_df = pd.read_csv(DATA_METADATA)"
   ]
  },
  {
   "cell_type": "code",
   "execution_count": 17,
   "id": "23277149",
   "metadata": {
    "execution": {
     "iopub.execute_input": "2024-11-15T09:30:33.835928Z",
     "iopub.status.busy": "2024-11-15T09:30:33.834515Z",
     "iopub.status.idle": "2024-11-15T09:30:34.005545Z",
     "shell.execute_reply": "2024-11-15T09:30:34.003423Z"
    },
    "papermill": {
     "duration": 0.222605,
     "end_time": "2024-11-15T09:30:34.010294",
     "exception": false,
     "start_time": "2024-11-15T09:30:33.787689",
     "status": "completed"
    },
    "tags": []
   },
   "outputs": [
    {
     "name": "stdout",
     "output_type": "stream",
     "text": [
      "Full Dataset: \n",
      "\n",
      "Data Summary:\n",
      "╒═════════════╤═════════╤══════════════════╕\n",
      "│ Attribute   │   Count │   Percentage (%) │\n",
      "╞═════════════╪═════════╪══════════════════╡\n",
      "│ tumor       │    2513 │             54.6 │\n",
      "├─────────────┼─────────┼──────────────────┤\n",
      "│ normal      │    2087 │             45.4 │\n",
      "├─────────────┼─────────┼──────────────────┤\n",
      "│ Total       │    4600 │            100   │\n",
      "╘═════════════╧═════════╧══════════════════╛\n"
     ]
    },
    {
     "data": {
      "image/png": "[encoded data removed]",
      "text/plain": [
       "<Figure size 200x200 with 1 Axes>"
      ]
     },
     "metadata": {},
     "output_type": "display_data"
    },
    {
     "name": "stdout",
     "output_type": "stream",
     "text": [
      "Sample Data:\n",
      "|    |   Unnamed: 0 | image           | class   | format   | mode   | shape         |\n",
      "|---:|-------------:|:----------------|:--------|:---------|:-------|:--------------|\n",
      "|  0 |            0 | Cancer (1).jpg  | tumor   | JPEG     | RGB    | (512, 512, 3) |\n",
      "|  1 |            1 | Cancer (1).png  | tumor   | PNG      | L      | (300, 240)    |\n",
      "|  2 |            2 | Cancer (1).tif  | tumor   | TIFF     | RGB    | (256, 256, 3) |\n",
      "|  3 |            3 | Cancer (10).jpg | tumor   | JPEG     | RGB    | (512, 512, 3) |\n",
      "|  4 |            4 | Cancer (10).tif | tumor   | TIFF     | RGB    | (256, 256, 3) | \n",
      "\n",
      "\n",
      "\n"
     ]
    }
   ],
   "source": [
    "# Visualize Data:\n",
    "print(\"Full Dataset:\",'\\n')\n",
    "view_df_summary_table(labels_df, \"Data Summary\")\n",
    "view_df_summary_pie_chart(labels_df, \"Pie Chart\")\n",
    "view_df_head(labels_df, \"Sample Data\")\n",
    "print('\\n')"
   ]
  },
  {
   "cell_type": "markdown",
   "id": "89612f41",
   "metadata": {
    "papermill": {
     "duration": 0.044133,
     "end_time": "2024-11-15T09:30:34.134194",
     "exception": false,
     "start_time": "2024-11-15T09:30:34.090061",
     "status": "completed"
    },
    "tags": []
   },
   "source": [
    "## Split Data"
   ]
  },
  {
   "cell_type": "code",
   "execution_count": 18,
   "id": "0410f88e",
   "metadata": {
    "execution": {
     "iopub.execute_input": "2024-11-15T09:30:34.224960Z",
     "iopub.status.busy": "2024-11-15T09:30:34.224477Z",
     "iopub.status.idle": "2024-11-15T09:30:34.288801Z",
     "shell.execute_reply": "2024-11-15T09:30:34.287351Z"
    },
    "papermill": {
     "duration": 0.113013,
     "end_time": "2024-11-15T09:30:34.291425",
     "exception": false,
     "start_time": "2024-11-15T09:30:34.178412",
     "status": "completed"
    },
    "tags": []
   },
   "outputs": [
    {
     "name": "stdout",
     "output_type": "stream",
     "text": [
      "brain_tumor_dir = /kaggle/input/brian-tumor-dataset/Brain Tumor Data Set/Brain Tumor Data Set/Brain Tumor\n",
      "\n",
      "healthy_dir = /kaggle/input/brian-tumor-dataset/Brain Tumor Data Set/Brain Tumor Data Set/Healthy\n",
      "\n",
      "Number of Brain Tumor Images: 2513\n",
      "Number of Healthy Images: 2087\n",
      "Number of Training Images: 3679\n",
      "Number of Testing Images: 921\n",
      "Training set has: 0.7997826086956522 % of the images\n",
      "Testing set has: 0.20021739130434782 % of the images\n"
     ]
    }
   ],
   "source": [
    "# Define the paths to each folder\n",
    "\n",
    "# Get all the image extensions \n",
    "# Possibly change to regular expression if needed \n",
    "image_extensions = ['*.jpeg', '*.jpg', '*.JPG', '*.png', '*.tif']\n",
    "\n",
    "\n",
    "brain_tumor_dir = Path(DATA_DIRECTORY) / \"Brain Tumor\"\n",
    "healthy_dir = Path(DATA_DIRECTORY) / \"Healthy\"\n",
    "print(f\"brain_tumor_dir = {brain_tumor_dir}\\n\")\n",
    "print(f\"healthy_dir = {healthy_dir}\\n\")\n",
    "\n",
    "\n",
    "brain_tumor_images = []\n",
    "healthy_brain_images = []\n",
    "\n",
    "# Iterate over image extensions list and get all the images from the two folders\n",
    "for ext in image_extensions: \n",
    "    brain_tumor_images.extend(brain_tumor_dir.glob(ext))  # Add all matching files to the list\n",
    "    healthy_brain_images.extend(healthy_dir.glob(ext))  # Add all matching files to the list\n",
    "\n",
    "# Verify that the images were collected proporly \n",
    "print(f\"Number of Brain Tumor Images: {len(brain_tumor_images)}\")\n",
    "print(f\"Number of Healthy Images: {len(healthy_brain_images)}\")\n",
    "\n",
    "\n",
    "# Split the data using train_test_split from sklearn \n",
    "brain_tumor_train, brain_tumor_test = train_test_split(brain_tumor_images, test_size=0.2, random_state=69)\n",
    "healthy_train, healthy_test = train_test_split(healthy_brain_images, test_size=0.2, random_state=69)\n",
    "\n",
    "# Combine both healthy and non healthy images into to training and testing \n",
    "train_images = brain_tumor_train + healthy_train \n",
    "test_images = brain_tumor_test + healthy_test\n",
    "train_image_percentage = len(train_images)/(len(train_images) + len(test_images))\n",
    "test_image_percentage = len(test_images)/(len(train_images) + len(test_images))\n",
    "\n",
    "# Verify the number of images in training and testing sets as well as percentage with respect to all images in dataset\n",
    "print(f\"Number of Training Images: {len(train_images)}\")\n",
    "print(f\"Number of Testing Images: {len(test_images)}\")\n",
    "print(f\"Training set has: {train_image_percentage} % of the images\")\n",
    "print(f\"Testing set has: {test_image_percentage} % of the images\")\n",
    "\n"
   ]
  },
  {
   "cell_type": "markdown",
   "id": "41620114",
   "metadata": {
    "papermill": {
     "duration": 0.044272,
     "end_time": "2024-11-15T09:30:34.380696",
     "exception": false,
     "start_time": "2024-11-15T09:30:34.336424",
     "status": "completed"
    },
    "tags": []
   },
   "source": [
    "## Create Seperate directories for training and testing to simplify workflow"
   ]
  },
  {
   "cell_type": "code",
   "execution_count": 19,
   "id": "3d8b771c",
   "metadata": {
    "execution": {
     "iopub.execute_input": "2024-11-15T09:30:34.471456Z",
     "iopub.status.busy": "2024-11-15T09:30:34.470970Z",
     "iopub.status.idle": "2024-11-15T09:30:34.476583Z",
     "shell.execute_reply": "2024-11-15T09:30:34.475267Z"
    },
    "papermill": {
     "duration": 0.054452,
     "end_time": "2024-11-15T09:30:34.479249",
     "exception": false,
     "start_time": "2024-11-15T09:30:34.424797",
     "status": "completed"
    },
    "tags": []
   },
   "outputs": [],
   "source": [
    "# TODO "
   ]
  },
  {
   "cell_type": "markdown",
   "id": "a32a02be",
   "metadata": {
    "papermill": {
     "duration": 0.0448,
     "end_time": "2024-11-15T09:30:34.568557",
     "exception": false,
     "start_time": "2024-11-15T09:30:34.523757",
     "status": "completed"
    },
    "tags": []
   },
   "source": [
    "## Process Data -> Torch / Tensorflow / etc"
   ]
  },
  {
   "cell_type": "markdown",
   "id": "e9d39509",
   "metadata": {
    "papermill": {
     "duration": 0.044209,
     "end_time": "2024-11-15T09:30:34.656725",
     "exception": false,
     "start_time": "2024-11-15T09:30:34.612516",
     "status": "completed"
    },
    "tags": []
   },
   "source": [
    "# Create Convolutional Neural Network"
   ]
  },
  {
   "cell_type": "code",
   "execution_count": null,
   "id": "846e7ed4",
   "metadata": {
    "papermill": {
     "duration": 0.043667,
     "end_time": "2024-11-15T09:30:34.745207",
     "exception": false,
     "start_time": "2024-11-15T09:30:34.701540",
     "status": "completed"
    },
    "tags": []
   },
   "outputs": [],
   "source": []
  },
  {
   "cell_type": "code",
   "execution_count": null,
   "id": "b46c4177",
   "metadata": {
    "papermill": {
     "duration": 0.044837,
     "end_time": "2024-11-15T09:30:34.834294",
     "exception": false,
     "start_time": "2024-11-15T09:30:34.789457",
     "status": "completed"
    },
    "tags": []
   },
   "outputs": [],
   "source": []
  }
 ],
 "metadata": {
  "kaggle": {
   "accelerator": "none",
   "dataSources": [
    {
     "datasetId": 1343913,
     "sourceId": 2236708,
     "sourceType": "datasetVersion"
    }
   ],
   "isGpuEnabled": false,
   "isInternetEnabled": false,
   "language": "python",
   "sourceType": "notebook"
  },
  "kernelspec": {
   "display_name": "Python 3",
   "language": "python",
   "name": "python3"
  },
  "language_info": {
   "codemirror_mode": {
    "name": "ipython",
    "version": 3
   },
   "file_extension": ".py",
   "mimetype": "text/x-python",
   "name": "python",
   "nbconvert_exporter": "python",
   "pygments_lexer": "ipython3",
   "version": "3.10.14"
  },
  "papermill": {
   "default_parameters": {},
   "duration": 1244.047305,
   "end_time": "2024-11-15T09:30:36.807454",
   "environment_variables": {},
   "exception": null,
   "input_path": "__notebook__.ipynb",
   "output_path": "__notebook__.ipynb",
   "parameters": {},
   "start_time": "2024-11-15T09:09:52.760149",
   "version": "2.6.0"
  }
 },
 "nbformat": 4,
 "nbformat_minor": 5
}
