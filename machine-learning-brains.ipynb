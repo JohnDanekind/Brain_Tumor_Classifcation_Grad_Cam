{
 "cells": [
  {
   "cell_type": "markdown",
   "id": "57409ee6",
   "metadata": {
    "papermill": {
     "duration": 0.00551,
     "end_time": "2024-11-22T20:00:20.012122",
     "exception": false,
     "start_time": "2024-11-22T20:00:20.006612",
     "status": "completed"
    },
    "tags": []
   },
   "source": [
    "# Setup"
   ]
  },
  {
   "cell_type": "markdown",
   "id": "10ac4580",
   "metadata": {
    "papermill": {
     "duration": 0.004854,
     "end_time": "2024-11-22T20:00:20.021920",
     "exception": false,
     "start_time": "2024-11-22T20:00:20.017066",
     "status": "completed"
    },
    "tags": []
   },
   "source": [
    "## Imports Necessary Libraries"
   ]
  },
  {
   "cell_type": "code",
   "execution_count": 1,
   "id": "7ace6ca0",
   "metadata": {
    "execution": {
     "iopub.execute_input": "2024-11-22T20:00:20.034533Z",
     "iopub.status.busy": "2024-11-22T20:00:20.034164Z",
     "iopub.status.idle": "2024-11-22T20:00:36.048394Z",
     "shell.execute_reply": "2024-11-22T20:00:36.047564Z"
    },
    "papermill": {
     "duration": 16.023961,
     "end_time": "2024-11-22T20:00:36.050805",
     "exception": false,
     "start_time": "2024-11-22T20:00:20.026844",
     "status": "completed"
    },
    "tags": []
   },
   "outputs": [],
   "source": [
    "# ---------- Import Essential Libraries ---------- #\n",
    "\n",
    "# Machine Learning Essentials #\n",
    "#import kaggle  uncomment if running locally \n",
    "import numpy as np \n",
    "import pandas as pd \n",
    "import matplotlib.pyplot as plt\n",
    "import os \n",
    "from sklearn.model_selection import train_test_split\n",
    "import tensorflow as tf \n",
    "from tensorflow import keras \n",
    "from tensorflow.keras.preprocessing.image import ImageDataGenerator\n",
    "import cv2\n",
    "\n",
    "# import splitfolders \n",
    "import pathlib\n",
    "from pathlib import Path\n",
    "\n",
    "# Python Utils #\n",
    "import copy\n",
    "\n",
    "# Other #\n"
   ]
  },
  {
   "cell_type": "markdown",
   "id": "574f9278",
   "metadata": {
    "papermill": {
     "duration": 0.007565,
     "end_time": "2024-11-22T20:00:36.069246",
     "exception": false,
     "start_time": "2024-11-22T20:00:36.061681",
     "status": "completed"
    },
    "tags": []
   },
   "source": [
    "## If running on local machine, use Kaggle API with the code in the cell below to get the right directory structure"
   ]
  },
  {
   "cell_type": "code",
   "execution_count": 2,
   "id": "76fc4a8e",
   "metadata": {
    "execution": {
     "iopub.execute_input": "2024-11-22T20:00:36.082207Z",
     "iopub.status.busy": "2024-11-22T20:00:36.081601Z",
     "iopub.status.idle": "2024-11-22T20:00:36.086125Z",
     "shell.execute_reply": "2024-11-22T20:00:36.085209Z"
    },
    "papermill": {
     "duration": 0.012749,
     "end_time": "2024-11-22T20:00:36.087991",
     "exception": false,
     "start_time": "2024-11-22T20:00:36.075242",
     "status": "completed"
    },
    "tags": []
   },
   "outputs": [],
   "source": [
    "# kaggle.api.authenticate()\n",
    "\n",
    "# kaggle.api.dataset_download_files('preetviradiya/brian-tumor-dataset', path='data', unzip=True)\n",
    "# kaggle.api.dataset_metadata('preetviradiya/brian-tumor-dataset', path='.')"
   ]
  },
  {
   "cell_type": "markdown",
   "id": "857fa6b8",
   "metadata": {
    "papermill": {
     "duration": 0.005032,
     "end_time": "2024-11-22T20:00:36.098259",
     "exception": false,
     "start_time": "2024-11-22T20:00:36.093227",
     "status": "completed"
    },
    "tags": []
   },
   "source": [
    "## Inputs and Folders"
   ]
  },
  {
   "cell_type": "code",
   "execution_count": 3,
   "id": "3c7a8d36",
   "metadata": {
    "execution": {
     "iopub.execute_input": "2024-11-22T20:00:36.109356Z",
     "iopub.status.busy": "2024-11-22T20:00:36.109049Z",
     "iopub.status.idle": "2024-11-22T20:00:36.113305Z",
     "shell.execute_reply": "2024-11-22T20:00:36.112337Z"
    },
    "papermill": {
     "duration": 0.011894,
     "end_time": "2024-11-22T20:00:36.115044",
     "exception": false,
     "start_time": "2024-11-22T20:00:36.103150",
     "status": "completed"
    },
    "tags": []
   },
   "outputs": [],
   "source": [
    "# Globals / Settings\n",
    "KAGGLE_INPUT   = '/kaggle/input'\n",
    "DATA_METADATA  = '/kaggle/input/brian-tumor-dataset/metadata.csv'\n",
    "DATA_DIRECTORY = '/kaggle/input/brian-tumor-dataset/Brain Tumor Data Set/Brain Tumor Data Set'\n"
   ]
  },
  {
   "cell_type": "markdown",
   "id": "1dd73cd9",
   "metadata": {
    "papermill": {
     "duration": 0.00462,
     "end_time": "2024-11-22T20:00:36.124007",
     "exception": false,
     "start_time": "2024-11-22T20:00:36.119387",
     "status": "completed"
    },
    "tags": []
   },
   "source": [
    "# Run cell below if working in Kaggle\n",
    "## Read in data and make a dataframe with the filepaths and labels associated with said file path\n"
   ]
  },
  {
   "cell_type": "code",
   "execution_count": 4,
   "id": "53109e9f",
   "metadata": {
    "execution": {
     "iopub.execute_input": "2024-11-22T20:00:36.134797Z",
     "iopub.status.busy": "2024-11-22T20:00:36.134507Z",
     "iopub.status.idle": "2024-11-22T20:00:36.265942Z",
     "shell.execute_reply": "2024-11-22T20:00:36.264880Z"
    },
    "papermill": {
     "duration": 0.139329,
     "end_time": "2024-11-22T20:00:36.268167",
     "exception": false,
     "start_time": "2024-11-22T20:00:36.128838",
     "status": "completed"
    },
    "tags": []
   },
   "outputs": [],
   "source": [
    "# Define the directories and labels for both folders of images \n",
    "\n",
    "directories = {\n",
    "    \"Brain Tumor\": '/kaggle/input/brian-tumor-dataset/Brain Tumor Data Set/Brain Tumor Data Set/Brain Tumor',\n",
    "    \"Healthy\":  '/kaggle/input/brian-tumor-dataset/Brain Tumor Data Set/Brain Tumor Data Set/Healthy'\n",
    "}\n",
    "\n",
    "# Create list of filepaths and a list of labels \n",
    "filepaths = []\n",
    "labels = [] \n",
    "\n",
    "# Iterate through the directories and collect the file paths and labels \n",
    "for label, path in directories.items():\n",
    "    for name in os.listdir(path):\n",
    "        filepaths.append(os.path.join(path, name))\n",
    "        labels.append(label)\n",
    "\n",
    "\n",
    "# Create a dataframe with the file paths and the labels \n",
    "\n",
    "df = pd.DataFrame({\"filepaths\": filepaths, \"labels\": labels})\n",
    "\n",
    "\n"
   ]
  },
  {
   "cell_type": "markdown",
   "id": "9ecd6b36",
   "metadata": {
    "papermill": {
     "duration": 0.004493,
     "end_time": "2024-11-22T20:00:36.278037",
     "exception": false,
     "start_time": "2024-11-22T20:00:36.273544",
     "status": "completed"
    },
    "tags": []
   },
   "source": [
    "# Run cell below if working locally \n",
    "## Note this requires the Kaggle API to get the directory structure required"
   ]
  },
  {
   "cell_type": "code",
   "execution_count": 5,
   "id": "79a086de",
   "metadata": {
    "execution": {
     "iopub.execute_input": "2024-11-22T20:00:36.288486Z",
     "iopub.status.busy": "2024-11-22T20:00:36.288176Z",
     "iopub.status.idle": "2024-11-22T20:00:36.292340Z",
     "shell.execute_reply": "2024-11-22T20:00:36.291486Z"
    },
    "papermill": {
     "duration": 0.011198,
     "end_time": "2024-11-22T20:00:36.294047",
     "exception": false,
     "start_time": "2024-11-22T20:00:36.282849",
     "status": "completed"
    },
    "tags": []
   },
   "outputs": [],
   "source": [
    "# # Define the directories and labels for both folders of images \n",
    "\n",
    "# directories = {\n",
    "#   \"Brain Tumor\":'./data/Brain Tumor Data Set/Brain Tumor Data Set/Brain Tumor',\n",
    "#   \"Healthy\":'./data/Brain Tumor Data Set/Brain Tumor Data Set/Healthy'\n",
    "# }\n",
    "\n",
    "# # Check if Files Exist\n",
    "# print(os.path.exists('./data/Brain Tumor Data Set/Brain Tumor Data Set/Brain Tumor'))\n",
    "# print(os.path.exists('./data/Brain Tumor Data Set/Brain Tumor Data Set/Healthy'))\n",
    "\n",
    "# # Create list of filepaths and a list of labels \n",
    "# filepaths = []\n",
    "# labels = [] \n",
    "\n",
    "# # Iterate through the directories and collect the file paths and labels \n",
    "# for label, path in directories.items():\n",
    "#   for name in os.listdir(path):\n",
    "#     filepaths.append(os.path.join(path, name))\n",
    "#     labels.append(label)\n",
    "\n",
    "\n",
    "# # Create a dataframe with the file paths and the labels \n",
    "\n",
    "# df = pd.DataFrame({\"filepaths\": filepaths, \"labels\": labels})"
   ]
  },
  {
   "cell_type": "code",
   "execution_count": 6,
   "id": "24ad1160",
   "metadata": {
    "execution": {
     "iopub.execute_input": "2024-11-22T20:00:36.303849Z",
     "iopub.status.busy": "2024-11-22T20:00:36.303610Z",
     "iopub.status.idle": "2024-11-22T20:00:36.320982Z",
     "shell.execute_reply": "2024-11-22T20:00:36.320147Z"
    },
    "papermill": {
     "duration": 0.024422,
     "end_time": "2024-11-22T20:00:36.322796",
     "exception": false,
     "start_time": "2024-11-22T20:00:36.298374",
     "status": "completed"
    },
    "tags": []
   },
   "outputs": [
    {
     "data": {
      "text/html": [
       "<div>\n",
       "<style scoped>\n",
       "    .dataframe tbody tr th:only-of-type {\n",
       "        vertical-align: middle;\n",
       "    }\n",
       "\n",
       "    .dataframe tbody tr th {\n",
       "        vertical-align: top;\n",
       "    }\n",
       "\n",
       "    .dataframe thead th {\n",
       "        text-align: right;\n",
       "    }\n",
       "</style>\n",
       "<table border=\"1\" class=\"dataframe\">\n",
       "  <thead>\n",
       "    <tr style=\"text-align: right;\">\n",
       "      <th></th>\n",
       "      <th>filepaths</th>\n",
       "      <th>labels</th>\n",
       "    </tr>\n",
       "  </thead>\n",
       "  <tbody>\n",
       "    <tr>\n",
       "      <th>0</th>\n",
       "      <td>/kaggle/input/brian-tumor-dataset/Brain Tumor ...</td>\n",
       "      <td>Brain Tumor</td>\n",
       "    </tr>\n",
       "    <tr>\n",
       "      <th>1</th>\n",
       "      <td>/kaggle/input/brian-tumor-dataset/Brain Tumor ...</td>\n",
       "      <td>Brain Tumor</td>\n",
       "    </tr>\n",
       "    <tr>\n",
       "      <th>2</th>\n",
       "      <td>/kaggle/input/brian-tumor-dataset/Brain Tumor ...</td>\n",
       "      <td>Brain Tumor</td>\n",
       "    </tr>\n",
       "    <tr>\n",
       "      <th>3</th>\n",
       "      <td>/kaggle/input/brian-tumor-dataset/Brain Tumor ...</td>\n",
       "      <td>Brain Tumor</td>\n",
       "    </tr>\n",
       "    <tr>\n",
       "      <th>4</th>\n",
       "      <td>/kaggle/input/brian-tumor-dataset/Brain Tumor ...</td>\n",
       "      <td>Brain Tumor</td>\n",
       "    </tr>\n",
       "  </tbody>\n",
       "</table>\n",
       "</div>"
      ],
      "text/plain": [
       "                                           filepaths       labels\n",
       "0  /kaggle/input/brian-tumor-dataset/Brain Tumor ...  Brain Tumor\n",
       "1  /kaggle/input/brian-tumor-dataset/Brain Tumor ...  Brain Tumor\n",
       "2  /kaggle/input/brian-tumor-dataset/Brain Tumor ...  Brain Tumor\n",
       "3  /kaggle/input/brian-tumor-dataset/Brain Tumor ...  Brain Tumor\n",
       "4  /kaggle/input/brian-tumor-dataset/Brain Tumor ...  Brain Tumor"
      ]
     },
     "execution_count": 6,
     "metadata": {},
     "output_type": "execute_result"
    }
   ],
   "source": [
    "df.head()"
   ]
  },
  {
   "cell_type": "markdown",
   "id": "4f389641",
   "metadata": {
    "papermill": {
     "duration": 0.004489,
     "end_time": "2024-11-22T20:00:36.331746",
     "exception": false,
     "start_time": "2024-11-22T20:00:36.327257",
     "status": "completed"
    },
    "tags": []
   },
   "source": [
    "## Split data into training, testing, and validation sets"
   ]
  },
  {
   "cell_type": "code",
   "execution_count": 7,
   "id": "6dd1c61d",
   "metadata": {
    "execution": {
     "iopub.execute_input": "2024-11-22T20:00:36.341802Z",
     "iopub.status.busy": "2024-11-22T20:00:36.341497Z",
     "iopub.status.idle": "2024-11-22T20:00:36.362044Z",
     "shell.execute_reply": "2024-11-22T20:00:36.361123Z"
    },
    "papermill": {
     "duration": 0.027688,
     "end_time": "2024-11-22T20:00:36.363992",
     "exception": false,
     "start_time": "2024-11-22T20:00:36.336304",
     "status": "completed"
    },
    "tags": []
   },
   "outputs": [
    {
     "name": "stdout",
     "output_type": "stream",
     "text": [
      "Training set is of shape (2932, 2)\n",
      "Testing set is of shape (1150, 2)\n",
      "Validation set is of shape (518, 2)\n"
     ]
    }
   ],
   "source": [
    "train_df, test_df = train_test_split(df, test_size=0.25, random_state=42,stratify=df.labels)\n",
    "train_df, val_df = train_test_split(train_df, test_size=0.15, random_state=42,stratify=train_df.labels)\n",
    "print(f\"Training set is of shape {train_df.shape}\")\n",
    "print(f\"Testing set is of shape {test_df.shape}\")\n",
    "print(f\"Validation set is of shape {val_df.shape}\")\n",
    "\n"
   ]
  },
  {
   "cell_type": "markdown",
   "id": "23d1751b",
   "metadata": {
    "papermill": {
     "duration": 0.004824,
     "end_time": "2024-11-22T20:00:36.374335",
     "exception": false,
     "start_time": "2024-11-22T20:00:36.369511",
     "status": "completed"
    },
    "tags": []
   },
   "source": [
    "# Preprocess Images "
   ]
  },
  {
   "cell_type": "markdown",
   "id": "162c77c6",
   "metadata": {
    "papermill": {
     "duration": 0.004623,
     "end_time": "2024-11-22T20:00:36.383614",
     "exception": false,
     "start_time": "2024-11-22T20:00:36.378991",
     "status": "completed"
    },
    "tags": []
   },
   "source": [
    "### Enhance the image \n",
    "If time permits, increase contrast using cv2.addWeighted, Sharpen with a kernel using OpenCV's filter2D function, and a couple other operations "
   ]
  },
  {
   "cell_type": "code",
   "execution_count": 8,
   "id": "959b0218",
   "metadata": {
    "execution": {
     "iopub.execute_input": "2024-11-22T20:00:36.396151Z",
     "iopub.status.busy": "2024-11-22T20:00:36.395849Z",
     "iopub.status.idle": "2024-11-22T20:00:36.399801Z",
     "shell.execute_reply": "2024-11-22T20:00:36.398877Z"
    },
    "papermill": {
     "duration": 0.013651,
     "end_time": "2024-11-22T20:00:36.401906",
     "exception": false,
     "start_time": "2024-11-22T20:00:36.388255",
     "status": "completed"
    },
    "tags": []
   },
   "outputs": [],
   "source": [
    "# Add code to enhance the image if it makes the model perform better "
   ]
  },
  {
   "cell_type": "markdown",
   "id": "cffe2eb9",
   "metadata": {
    "papermill": {
     "duration": 0.00465,
     "end_time": "2024-11-22T20:00:36.411756",
     "exception": false,
     "start_time": "2024-11-22T20:00:36.407106",
     "status": "completed"
    },
    "tags": []
   },
   "source": [
    "# Data Generators (Batching, Data Augmentation, On-the-fly-processing, and flow control) "
   ]
  },
  {
   "cell_type": "code",
   "execution_count": 9,
   "id": "36667526",
   "metadata": {
    "execution": {
     "iopub.execute_input": "2024-11-22T20:00:36.423016Z",
     "iopub.status.busy": "2024-11-22T20:00:36.422181Z",
     "iopub.status.idle": "2024-11-22T20:00:49.665897Z",
     "shell.execute_reply": "2024-11-22T20:00:49.664785Z"
    },
    "papermill": {
     "duration": 13.251231,
     "end_time": "2024-11-22T20:00:49.667811",
     "exception": false,
     "start_time": "2024-11-22T20:00:36.416580",
     "status": "completed"
    },
    "tags": []
   },
   "outputs": [
    {
     "name": "stdout",
     "output_type": "stream",
     "text": [
      "Found 2932 validated image filenames belonging to 2 classes.\n",
      "Found 1150 validated image filenames belonging to 2 classes.\n",
      "Found 518 validated image filenames belonging to 2 classes.\n"
     ]
    }
   ],
   "source": [
    "# Use tensorflows ImageDataGenerator to preprocess the images \n",
    "\n",
    "# rescale parameter will scale pixel values to the range [0,1] \n",
    "image_generator = ImageDataGenerator(\n",
    "    rescale=1./255 # Normalize image pixel values from [0,255] to [0,1]\n",
    ")\n",
    "\n",
    "# Create a data generator for the training set\n",
    "train = image_generator.flow_from_dataframe(\n",
    "    dataframe=train_df,         # DataFrame containing file paths and labels for training data\n",
    "    x_col=\"filepaths\",          # Column in the DataFrame with the file paths to the images\n",
    "    y_col=\"labels\",             # Column in the DataFrame with the labels for the images\n",
    "    target_size=(256, 256),     # Resize all images to 256x256 pixels\n",
    "    color_mode='rgb',           # Load images in RGB format (3 color channels)\n",
    "    class_mode=\"categorical\",   # Generate one-hot encoded labels for multi-class classification\n",
    "    batch_size=64,              # Number of images to generate per batch\n",
    "    shuffle=False               # Do not shuffle the order of images in this generator\n",
    ")\n",
    "\n",
    "# Create a data generator for the test set\n",
    "test = image_generator.flow_from_dataframe(\n",
    "    dataframe=test_df,          # DataFrame containing file paths and labels for test data\n",
    "    x_col=\"filepaths\",          # Column in the DataFrame with the file paths to the images\n",
    "    y_col=\"labels\",             # Column in the DataFrame with the labels for the images\n",
    "    target_size=(256, 256),     # Resize all images to 256x256 pixels\n",
    "    color_mode='rgb',           # Load images in RGB format\n",
    "    class_mode=\"categorical\",   # Generate one-hot encoded labels for evaluation\n",
    "    batch_size=64,              # Number of images to generate per batch\n",
    "    shuffle=False               # Do not shuffle the order, as this is for testing\n",
    ")\n",
    "\n",
    "# Create a data generator for the validation set\n",
    "val = image_generator.flow_from_dataframe(\n",
    "    dataframe=val_df,           # DataFrame containing file paths and labels for validation data\n",
    "    x_col=\"filepaths\",          # Column in the DataFrame with the file paths to the images\n",
    "    y_col=\"labels\",             # Column in the DataFrame with the labels for the images\n",
    "    target_size=(256, 256),     # Resize all images to 256x256 pixels\n",
    "    color_mode='rgb',           # Load images in RGB format\n",
    "    class_mode=\"categorical\",   # Generate one-hot encoded labels for validation\n",
    "    batch_size=64,              # Number of images to generate per batch\n",
    "    shuffle=False               # Do not shuffle the order, as this is for validation\n",
    ")\n"
   ]
  },
  {
   "cell_type": "markdown",
   "id": "e93634ac",
   "metadata": {
    "papermill": {
     "duration": 0.004836,
     "end_time": "2024-11-22T20:00:49.678006",
     "exception": false,
     "start_time": "2024-11-22T20:00:49.673170",
     "status": "completed"
    },
    "tags": []
   },
   "source": [
    "# TODO Show Certain Number of images from each class "
   ]
  },
  {
   "cell_type": "code",
   "execution_count": 10,
   "id": "71c95c2a",
   "metadata": {
    "execution": {
     "iopub.execute_input": "2024-11-22T20:00:49.688752Z",
     "iopub.status.busy": "2024-11-22T20:00:49.688495Z",
     "iopub.status.idle": "2024-11-22T20:00:49.691907Z",
     "shell.execute_reply": "2024-11-22T20:00:49.691261Z"
    },
    "papermill": {
     "duration": 0.010706,
     "end_time": "2024-11-22T20:00:49.693647",
     "exception": false,
     "start_time": "2024-11-22T20:00:49.682941",
     "status": "completed"
    },
    "tags": []
   },
   "outputs": [],
   "source": [
    "#TODO Code to show certain number of images from each class\n"
   ]
  },
  {
   "cell_type": "markdown",
   "id": "78a86815",
   "metadata": {
    "papermill": {
     "duration": 0.00455,
     "end_time": "2024-11-22T20:00:49.702711",
     "exception": false,
     "start_time": "2024-11-22T20:00:49.698161",
     "status": "completed"
    },
    "tags": []
   },
   "source": [
    "# Create CNN and Compile the model (TODO deepdive into other implementation and understand code better and revise and make our own later) \n",
    "\n",
    "## Don't use ChatGPT Bullshit"
   ]
  },
  {
   "cell_type": "code",
   "execution_count": 11,
   "id": "d295690f",
   "metadata": {
    "execution": {
     "iopub.execute_input": "2024-11-22T20:00:49.713128Z",
     "iopub.status.busy": "2024-11-22T20:00:49.712862Z",
     "iopub.status.idle": "2024-11-22T20:00:50.817737Z",
     "shell.execute_reply": "2024-11-22T20:00:50.816773Z"
    },
    "papermill": {
     "duration": 1.112154,
     "end_time": "2024-11-22T20:00:50.819600",
     "exception": false,
     "start_time": "2024-11-22T20:00:49.707446",
     "status": "completed"
    },
    "tags": []
   },
   "outputs": [
    {
     "name": "stderr",
     "output_type": "stream",
     "text": [
      "/opt/conda/lib/python3.10/site-packages/keras/src/layers/convolutional/base_conv.py:107: UserWarning: Do not pass an `input_shape`/`input_dim` argument to a layer. When using Sequential models, prefer using an `Input(shape)` object as the first layer in the model instead.\n",
      "  super().__init__(activity_regularizer=activity_regularizer, **kwargs)\n"
     ]
    },
    {
     "data": {
      "text/html": [
       "<pre style=\"white-space:pre;overflow-x:auto;line-height:normal;font-family:Menlo,'DejaVu Sans Mono',consolas,'Courier New',monospace\"><span style=\"font-weight: bold\">Model: \"sequential\"</span>\n",
       "</pre>\n"
      ],
      "text/plain": [
       "\u001b[1mModel: \"sequential\"\u001b[0m\n"
      ]
     },
     "metadata": {},
     "output_type": "display_data"
    },
    {
     "data": {
      "text/html": [
       "<pre style=\"white-space:pre;overflow-x:auto;line-height:normal;font-family:Menlo,'DejaVu Sans Mono',consolas,'Courier New',monospace\">┏━━━━━━━━━━━━━━━━━━━━━━━━━━━━━━━━━┳━━━━━━━━━━━━━━━━━━━━━━━━┳━━━━━━━━━━━━━━━┓\n",
       "┃<span style=\"font-weight: bold\"> Layer (type)                    </span>┃<span style=\"font-weight: bold\"> Output Shape           </span>┃<span style=\"font-weight: bold\">       Param # </span>┃\n",
       "┡━━━━━━━━━━━━━━━━━━━━━━━━━━━━━━━━━╇━━━━━━━━━━━━━━━━━━━━━━━━╇━━━━━━━━━━━━━━━┩\n",
       "│ conv2d (<span style=\"color: #0087ff; text-decoration-color: #0087ff\">Conv2D</span>)                 │ (<span style=\"color: #00d7ff; text-decoration-color: #00d7ff\">None</span>, <span style=\"color: #00af00; text-decoration-color: #00af00\">254</span>, <span style=\"color: #00af00; text-decoration-color: #00af00\">254</span>, <span style=\"color: #00af00; text-decoration-color: #00af00\">32</span>)   │           <span style=\"color: #00af00; text-decoration-color: #00af00\">896</span> │\n",
       "├─────────────────────────────────┼────────────────────────┼───────────────┤\n",
       "│ max_pooling2d (<span style=\"color: #0087ff; text-decoration-color: #0087ff\">MaxPooling2D</span>)    │ (<span style=\"color: #00d7ff; text-decoration-color: #00d7ff\">None</span>, <span style=\"color: #00af00; text-decoration-color: #00af00\">127</span>, <span style=\"color: #00af00; text-decoration-color: #00af00\">127</span>, <span style=\"color: #00af00; text-decoration-color: #00af00\">32</span>)   │             <span style=\"color: #00af00; text-decoration-color: #00af00\">0</span> │\n",
       "├─────────────────────────────────┼────────────────────────┼───────────────┤\n",
       "│ conv2d_1 (<span style=\"color: #0087ff; text-decoration-color: #0087ff\">Conv2D</span>)               │ (<span style=\"color: #00d7ff; text-decoration-color: #00d7ff\">None</span>, <span style=\"color: #00af00; text-decoration-color: #00af00\">125</span>, <span style=\"color: #00af00; text-decoration-color: #00af00\">125</span>, <span style=\"color: #00af00; text-decoration-color: #00af00\">64</span>)   │        <span style=\"color: #00af00; text-decoration-color: #00af00\">18,496</span> │\n",
       "├─────────────────────────────────┼────────────────────────┼───────────────┤\n",
       "│ max_pooling2d_1 (<span style=\"color: #0087ff; text-decoration-color: #0087ff\">MaxPooling2D</span>)  │ (<span style=\"color: #00d7ff; text-decoration-color: #00d7ff\">None</span>, <span style=\"color: #00af00; text-decoration-color: #00af00\">62</span>, <span style=\"color: #00af00; text-decoration-color: #00af00\">62</span>, <span style=\"color: #00af00; text-decoration-color: #00af00\">64</span>)     │             <span style=\"color: #00af00; text-decoration-color: #00af00\">0</span> │\n",
       "├─────────────────────────────────┼────────────────────────┼───────────────┤\n",
       "│ conv2d_2 (<span style=\"color: #0087ff; text-decoration-color: #0087ff\">Conv2D</span>)               │ (<span style=\"color: #00d7ff; text-decoration-color: #00d7ff\">None</span>, <span style=\"color: #00af00; text-decoration-color: #00af00\">60</span>, <span style=\"color: #00af00; text-decoration-color: #00af00\">60</span>, <span style=\"color: #00af00; text-decoration-color: #00af00\">128</span>)    │        <span style=\"color: #00af00; text-decoration-color: #00af00\">73,856</span> │\n",
       "├─────────────────────────────────┼────────────────────────┼───────────────┤\n",
       "│ max_pooling2d_2 (<span style=\"color: #0087ff; text-decoration-color: #0087ff\">MaxPooling2D</span>)  │ (<span style=\"color: #00d7ff; text-decoration-color: #00d7ff\">None</span>, <span style=\"color: #00af00; text-decoration-color: #00af00\">30</span>, <span style=\"color: #00af00; text-decoration-color: #00af00\">30</span>, <span style=\"color: #00af00; text-decoration-color: #00af00\">128</span>)    │             <span style=\"color: #00af00; text-decoration-color: #00af00\">0</span> │\n",
       "├─────────────────────────────────┼────────────────────────┼───────────────┤\n",
       "│ flatten (<span style=\"color: #0087ff; text-decoration-color: #0087ff\">Flatten</span>)               │ (<span style=\"color: #00d7ff; text-decoration-color: #00d7ff\">None</span>, <span style=\"color: #00af00; text-decoration-color: #00af00\">115200</span>)         │             <span style=\"color: #00af00; text-decoration-color: #00af00\">0</span> │\n",
       "├─────────────────────────────────┼────────────────────────┼───────────────┤\n",
       "│ dense (<span style=\"color: #0087ff; text-decoration-color: #0087ff\">Dense</span>)                   │ (<span style=\"color: #00d7ff; text-decoration-color: #00d7ff\">None</span>, <span style=\"color: #00af00; text-decoration-color: #00af00\">128</span>)            │    <span style=\"color: #00af00; text-decoration-color: #00af00\">14,745,728</span> │\n",
       "├─────────────────────────────────┼────────────────────────┼───────────────┤\n",
       "│ dropout (<span style=\"color: #0087ff; text-decoration-color: #0087ff\">Dropout</span>)               │ (<span style=\"color: #00d7ff; text-decoration-color: #00d7ff\">None</span>, <span style=\"color: #00af00; text-decoration-color: #00af00\">128</span>)            │             <span style=\"color: #00af00; text-decoration-color: #00af00\">0</span> │\n",
       "├─────────────────────────────────┼────────────────────────┼───────────────┤\n",
       "│ dense_1 (<span style=\"color: #0087ff; text-decoration-color: #0087ff\">Dense</span>)                 │ (<span style=\"color: #00d7ff; text-decoration-color: #00d7ff\">None</span>, <span style=\"color: #00af00; text-decoration-color: #00af00\">2</span>)              │           <span style=\"color: #00af00; text-decoration-color: #00af00\">258</span> │\n",
       "└─────────────────────────────────┴────────────────────────┴───────────────┘\n",
       "</pre>\n"
      ],
      "text/plain": [
       "┏━━━━━━━━━━━━━━━━━━━━━━━━━━━━━━━━━┳━━━━━━━━━━━━━━━━━━━━━━━━┳━━━━━━━━━━━━━━━┓\n",
       "┃\u001b[1m \u001b[0m\u001b[1mLayer (type)                   \u001b[0m\u001b[1m \u001b[0m┃\u001b[1m \u001b[0m\u001b[1mOutput Shape          \u001b[0m\u001b[1m \u001b[0m┃\u001b[1m \u001b[0m\u001b[1m      Param #\u001b[0m\u001b[1m \u001b[0m┃\n",
       "┡━━━━━━━━━━━━━━━━━━━━━━━━━━━━━━━━━╇━━━━━━━━━━━━━━━━━━━━━━━━╇━━━━━━━━━━━━━━━┩\n",
       "│ conv2d (\u001b[38;5;33mConv2D\u001b[0m)                 │ (\u001b[38;5;45mNone\u001b[0m, \u001b[38;5;34m254\u001b[0m, \u001b[38;5;34m254\u001b[0m, \u001b[38;5;34m32\u001b[0m)   │           \u001b[38;5;34m896\u001b[0m │\n",
       "├─────────────────────────────────┼────────────────────────┼───────────────┤\n",
       "│ max_pooling2d (\u001b[38;5;33mMaxPooling2D\u001b[0m)    │ (\u001b[38;5;45mNone\u001b[0m, \u001b[38;5;34m127\u001b[0m, \u001b[38;5;34m127\u001b[0m, \u001b[38;5;34m32\u001b[0m)   │             \u001b[38;5;34m0\u001b[0m │\n",
       "├─────────────────────────────────┼────────────────────────┼───────────────┤\n",
       "│ conv2d_1 (\u001b[38;5;33mConv2D\u001b[0m)               │ (\u001b[38;5;45mNone\u001b[0m, \u001b[38;5;34m125\u001b[0m, \u001b[38;5;34m125\u001b[0m, \u001b[38;5;34m64\u001b[0m)   │        \u001b[38;5;34m18,496\u001b[0m │\n",
       "├─────────────────────────────────┼────────────────────────┼───────────────┤\n",
       "│ max_pooling2d_1 (\u001b[38;5;33mMaxPooling2D\u001b[0m)  │ (\u001b[38;5;45mNone\u001b[0m, \u001b[38;5;34m62\u001b[0m, \u001b[38;5;34m62\u001b[0m, \u001b[38;5;34m64\u001b[0m)     │             \u001b[38;5;34m0\u001b[0m │\n",
       "├─────────────────────────────────┼────────────────────────┼───────────────┤\n",
       "│ conv2d_2 (\u001b[38;5;33mConv2D\u001b[0m)               │ (\u001b[38;5;45mNone\u001b[0m, \u001b[38;5;34m60\u001b[0m, \u001b[38;5;34m60\u001b[0m, \u001b[38;5;34m128\u001b[0m)    │        \u001b[38;5;34m73,856\u001b[0m │\n",
       "├─────────────────────────────────┼────────────────────────┼───────────────┤\n",
       "│ max_pooling2d_2 (\u001b[38;5;33mMaxPooling2D\u001b[0m)  │ (\u001b[38;5;45mNone\u001b[0m, \u001b[38;5;34m30\u001b[0m, \u001b[38;5;34m30\u001b[0m, \u001b[38;5;34m128\u001b[0m)    │             \u001b[38;5;34m0\u001b[0m │\n",
       "├─────────────────────────────────┼────────────────────────┼───────────────┤\n",
       "│ flatten (\u001b[38;5;33mFlatten\u001b[0m)               │ (\u001b[38;5;45mNone\u001b[0m, \u001b[38;5;34m115200\u001b[0m)         │             \u001b[38;5;34m0\u001b[0m │\n",
       "├─────────────────────────────────┼────────────────────────┼───────────────┤\n",
       "│ dense (\u001b[38;5;33mDense\u001b[0m)                   │ (\u001b[38;5;45mNone\u001b[0m, \u001b[38;5;34m128\u001b[0m)            │    \u001b[38;5;34m14,745,728\u001b[0m │\n",
       "├─────────────────────────────────┼────────────────────────┼───────────────┤\n",
       "│ dropout (\u001b[38;5;33mDropout\u001b[0m)               │ (\u001b[38;5;45mNone\u001b[0m, \u001b[38;5;34m128\u001b[0m)            │             \u001b[38;5;34m0\u001b[0m │\n",
       "├─────────────────────────────────┼────────────────────────┼───────────────┤\n",
       "│ dense_1 (\u001b[38;5;33mDense\u001b[0m)                 │ (\u001b[38;5;45mNone\u001b[0m, \u001b[38;5;34m2\u001b[0m)              │           \u001b[38;5;34m258\u001b[0m │\n",
       "└─────────────────────────────────┴────────────────────────┴───────────────┘\n"
      ]
     },
     "metadata": {},
     "output_type": "display_data"
    },
    {
     "data": {
      "text/html": [
       "<pre style=\"white-space:pre;overflow-x:auto;line-height:normal;font-family:Menlo,'DejaVu Sans Mono',consolas,'Courier New',monospace\"><span style=\"font-weight: bold\"> Total params: </span><span style=\"color: #00af00; text-decoration-color: #00af00\">14,839,234</span> (56.61 MB)\n",
       "</pre>\n"
      ],
      "text/plain": [
       "\u001b[1m Total params: \u001b[0m\u001b[38;5;34m14,839,234\u001b[0m (56.61 MB)\n"
      ]
     },
     "metadata": {},
     "output_type": "display_data"
    },
    {
     "data": {
      "text/html": [
       "<pre style=\"white-space:pre;overflow-x:auto;line-height:normal;font-family:Menlo,'DejaVu Sans Mono',consolas,'Courier New',monospace\"><span style=\"font-weight: bold\"> Trainable params: </span><span style=\"color: #00af00; text-decoration-color: #00af00\">14,839,234</span> (56.61 MB)\n",
       "</pre>\n"
      ],
      "text/plain": [
       "\u001b[1m Trainable params: \u001b[0m\u001b[38;5;34m14,839,234\u001b[0m (56.61 MB)\n"
      ]
     },
     "metadata": {},
     "output_type": "display_data"
    },
    {
     "data": {
      "text/html": [
       "<pre style=\"white-space:pre;overflow-x:auto;line-height:normal;font-family:Menlo,'DejaVu Sans Mono',consolas,'Courier New',monospace\"><span style=\"font-weight: bold\"> Non-trainable params: </span><span style=\"color: #00af00; text-decoration-color: #00af00\">0</span> (0.00 B)\n",
       "</pre>\n"
      ],
      "text/plain": [
       "\u001b[1m Non-trainable params: \u001b[0m\u001b[38;5;34m0\u001b[0m (0.00 B)\n"
      ]
     },
     "metadata": {},
     "output_type": "display_data"
    }
   ],
   "source": [
    "import tensorflow as tf\n",
    "from tensorflow.keras.models import Sequential\n",
    "from tensorflow.keras.layers import Conv2D, MaxPooling2D, Flatten, Dense, Dropout\n",
    "from tensorflow.keras.optimizers import Adam\n",
    "\n",
    "# Define the CNN model\n",
    "model = Sequential([\n",
    "    Conv2D(32, (3, 3), activation='relu', input_shape=(256, 256, 3)),  # First Conv Layer\n",
    "    MaxPooling2D((2, 2)),                                               # Max Pooling\n",
    "    Conv2D(64, (3, 3), activation='relu'),                              # Second Conv Layer\n",
    "    MaxPooling2D((2, 2)),                                               # Max Pooling\n",
    "    Conv2D(128, (3, 3), activation='relu'),                             # Third Conv Layer\n",
    "    MaxPooling2D((2, 2)),                                               # Max Pooling\n",
    "    Flatten(),                                                          # Flatten the output\n",
    "    Dense(128, activation='relu'),                                      # Fully Connected Layer\n",
    "    Dropout(0.5),                                                       # Dropout for regularization\n",
    "    Dense(len(train.class_indices), activation='softmax')               # Output layer with softmax activation\n",
    "])\n",
    "\n",
    "# Compile the model\n",
    "model.compile(\n",
    "    optimizer=Adam(),\n",
    "    loss='categorical_crossentropy',   # Since it's multi-class classification\n",
    "    metrics=['accuracy']\n",
    ")\n",
    "\n",
    "# Summary of the model architecture\n",
    "model.summary()\n"
   ]
  },
  {
   "cell_type": "markdown",
   "id": "f44e5abc",
   "metadata": {
    "papermill": {
     "duration": 0.005862,
     "end_time": "2024-11-22T20:00:50.831648",
     "exception": false,
     "start_time": "2024-11-22T20:00:50.825786",
     "status": "completed"
    },
    "tags": []
   },
   "source": [
    "# Train the Model"
   ]
  },
  {
   "cell_type": "code",
   "execution_count": 12,
   "id": "d9b63480",
   "metadata": {
    "execution": {
     "iopub.execute_input": "2024-11-22T20:00:50.844935Z",
     "iopub.status.busy": "2024-11-22T20:00:50.844631Z",
     "iopub.status.idle": "2024-11-22T20:03:15.707163Z",
     "shell.execute_reply": "2024-11-22T20:03:15.706405Z"
    },
    "papermill": {
     "duration": 144.871595,
     "end_time": "2024-11-22T20:03:15.709152",
     "exception": false,
     "start_time": "2024-11-22T20:00:50.837557",
     "status": "completed"
    },
    "tags": []
   },
   "outputs": [
    {
     "name": "stdout",
     "output_type": "stream",
     "text": [
      "Epoch 1/15\n"
     ]
    },
    {
     "name": "stderr",
     "output_type": "stream",
     "text": [
      "/opt/conda/lib/python3.10/site-packages/keras/src/trainers/data_adapters/py_dataset_adapter.py:121: UserWarning: Your `PyDataset` class should call `super().__init__(**kwargs)` in its constructor. `**kwargs` can include `workers`, `use_multiprocessing`, `max_queue_size`. Do not pass these arguments to `fit()`, as they will be ignored.\n",
      "  self._warn_if_super_not_called()\n",
      "WARNING: All log messages before absl::InitializeLog() is called are written to STDERR\n",
      "I0000 00:00:1732305658.091713      66 service.cc:145] XLA service 0x7d837c005a10 initialized for platform CUDA (this does not guarantee that XLA will be used). Devices:\n",
      "I0000 00:00:1732305658.091787      66 service.cc:153]   StreamExecutor device (0): Tesla T4, Compute Capability 7.5\n",
      "I0000 00:00:1732305658.091792      66 service.cc:153]   StreamExecutor device (1): Tesla T4, Compute Capability 7.5\n"
     ]
    },
    {
     "name": "stdout",
     "output_type": "stream",
     "text": [
      "\u001b[1m 1/45\u001b[0m \u001b[37m━━━━━━━━━━━━━━━━━━━━\u001b[0m \u001b[1m14:33\u001b[0m 20s/step - accuracy: 0.5625 - loss: 0.6992"
     ]
    },
    {
     "name": "stderr",
     "output_type": "stream",
     "text": [
      "I0000 00:00:1732305671.757369      66 device_compiler.h:188] Compiled cluster using XLA!  This line is logged at most once for the lifetime of the process.\n"
     ]
    },
    {
     "name": "stdout",
     "output_type": "stream",
     "text": [
      "\u001b[1m45/45\u001b[0m \u001b[32m━━━━━━━━━━━━━━━━━━━━\u001b[0m\u001b[37m\u001b[0m \u001b[1m53s\u001b[0m 755ms/step - accuracy: 0.6083 - loss: 0.9547 - val_accuracy: 0.8281 - val_loss: 0.4461\n",
      "Epoch 2/15\n",
      "\u001b[1m 1/45\u001b[0m \u001b[37m━━━━━━━━━━━━━━━━━━━━\u001b[0m \u001b[1m6s\u001b[0m 144ms/step - accuracy: 0.7656 - loss: 0.4580"
     ]
    },
    {
     "name": "stderr",
     "output_type": "stream",
     "text": [
      "/opt/conda/lib/python3.10/contextlib.py:153: UserWarning: Your input ran out of data; interrupting training. Make sure that your dataset or generator can generate at least `steps_per_epoch * epochs` batches. You may need to use the `.repeat()` function when building your dataset.\n",
      "  self.gen.throw(typ, value, traceback)\n"
     ]
    },
    {
     "name": "stdout",
     "output_type": "stream",
     "text": [
      "\u001b[1m45/45\u001b[0m \u001b[32m━━━━━━━━━━━━━━━━━━━━\u001b[0m\u001b[37m\u001b[0m \u001b[1m1s\u001b[0m 17ms/step - accuracy: 0.7656 - loss: 0.4580 - val_accuracy: 0.5000 - val_loss: 0.6767\n",
      "Epoch 3/15\n",
      "\u001b[1m45/45\u001b[0m \u001b[32m━━━━━━━━━━━━━━━━━━━━\u001b[0m\u001b[37m\u001b[0m \u001b[1m13s\u001b[0m 245ms/step - accuracy: 0.8240 - loss: 0.3987 - val_accuracy: 0.8828 - val_loss: 0.3160\n",
      "Epoch 4/15\n",
      "\u001b[1m45/45\u001b[0m \u001b[32m━━━━━━━━━━━━━━━━━━━━\u001b[0m\u001b[37m\u001b[0m \u001b[1m0s\u001b[0m 333us/step - accuracy: 0.9375 - loss: 0.1900 - val_accuracy: 0.6667 - val_loss: 0.7571\n",
      "Epoch 5/15\n",
      "\u001b[1m45/45\u001b[0m \u001b[32m━━━━━━━━━━━━━━━━━━━━\u001b[0m\u001b[37m\u001b[0m \u001b[1m12s\u001b[0m 239ms/step - accuracy: 0.8849 - loss: 0.2630 - val_accuracy: 0.9062 - val_loss: 0.2386\n",
      "Epoch 6/15\n",
      "\u001b[1m45/45\u001b[0m \u001b[32m━━━━━━━━━━━━━━━━━━━━\u001b[0m\u001b[37m\u001b[0m \u001b[1m0s\u001b[0m 398us/step - accuracy: 0.9531 - loss: 0.1762 - val_accuracy: 0.8333 - val_loss: 0.3723\n",
      "Epoch 7/15\n",
      "\u001b[1m45/45\u001b[0m \u001b[32m━━━━━━━━━━━━━━━━━━━━\u001b[0m\u001b[37m\u001b[0m \u001b[1m13s\u001b[0m 249ms/step - accuracy: 0.9407 - loss: 0.1685 - val_accuracy: 0.9238 - val_loss: 0.2261\n",
      "Epoch 8/15\n",
      "\u001b[1m45/45\u001b[0m \u001b[32m━━━━━━━━━━━━━━━━━━━━\u001b[0m\u001b[37m\u001b[0m \u001b[1m0s\u001b[0m 387us/step - accuracy: 0.9375 - loss: 0.1193 - val_accuracy: 0.8333 - val_loss: 0.3478\n",
      "Epoch 9/15\n",
      "\u001b[1m45/45\u001b[0m \u001b[32m━━━━━━━━━━━━━━━━━━━━\u001b[0m\u001b[37m\u001b[0m \u001b[1m12s\u001b[0m 240ms/step - accuracy: 0.9548 - loss: 0.1145 - val_accuracy: 0.9434 - val_loss: 0.1841\n",
      "Epoch 10/15\n",
      "\u001b[1m45/45\u001b[0m \u001b[32m━━━━━━━━━━━━━━━━━━━━\u001b[0m\u001b[37m\u001b[0m \u001b[1m0s\u001b[0m 387us/step - accuracy: 0.9844 - loss: 0.0432 - val_accuracy: 1.0000 - val_loss: 0.0677\n",
      "Epoch 11/15\n",
      "\u001b[1m45/45\u001b[0m \u001b[32m━━━━━━━━━━━━━━━━━━━━\u001b[0m\u001b[37m\u001b[0m \u001b[1m13s\u001b[0m 253ms/step - accuracy: 0.9752 - loss: 0.0788 - val_accuracy: 0.9434 - val_loss: 0.1942\n",
      "Epoch 12/15\n",
      "\u001b[1m45/45\u001b[0m \u001b[32m━━━━━━━━━━━━━━━━━━━━\u001b[0m\u001b[37m\u001b[0m \u001b[1m0s\u001b[0m 370us/step - accuracy: 0.9531 - loss: 0.1123 - val_accuracy: 1.0000 - val_loss: 0.0188\n",
      "Epoch 13/15\n",
      "\u001b[1m45/45\u001b[0m \u001b[32m━━━━━━━━━━━━━━━━━━━━\u001b[0m\u001b[37m\u001b[0m \u001b[1m13s\u001b[0m 255ms/step - accuracy: 0.9843 - loss: 0.0462 - val_accuracy: 0.9512 - val_loss: 0.1773\n",
      "Epoch 14/15\n",
      "\u001b[1m45/45\u001b[0m \u001b[32m━━━━━━━━━━━━━━━━━━━━\u001b[0m\u001b[37m\u001b[0m \u001b[1m0s\u001b[0m 379us/step - accuracy: 0.9844 - loss: 0.0458 - val_accuracy: 1.0000 - val_loss: 0.0808\n",
      "Epoch 15/15\n",
      "\u001b[1m45/45\u001b[0m \u001b[32m━━━━━━━━━━━━━━━━━━━━\u001b[0m\u001b[37m\u001b[0m \u001b[1m12s\u001b[0m 239ms/step - accuracy: 0.9780 - loss: 0.0574 - val_accuracy: 0.9512 - val_loss: 0.1924\n"
     ]
    }
   ],
   "source": [
    "# Train the model\n",
    "history = model.fit(\n",
    "    train,                           # Training data\n",
    "    epochs=15,                        # Number of epochs\n",
    "    validation_data=val,              # Validation data\n",
    "    steps_per_epoch=train.samples // train.batch_size,    # Steps per epoch\n",
    "    validation_steps=val.samples // val.batch_size,        # Validation steps\n",
    "    verbose=1\n",
    ")\n",
    "\n",
    "# Save the trained model (optional)\n",
    "model.save('cnn_model.h5')\n"
   ]
  },
  {
   "cell_type": "code",
   "execution_count": 13,
   "id": "a715f1fe",
   "metadata": {
    "execution": {
     "iopub.execute_input": "2024-11-22T20:03:15.757835Z",
     "iopub.status.busy": "2024-11-22T20:03:15.757074Z",
     "iopub.status.idle": "2024-11-22T20:03:29.578833Z",
     "shell.execute_reply": "2024-11-22T20:03:29.577865Z"
    },
    "papermill": {
     "duration": 13.847352,
     "end_time": "2024-11-22T20:03:29.580468",
     "exception": false,
     "start_time": "2024-11-22T20:03:15.733116",
     "status": "completed"
    },
    "tags": []
   },
   "outputs": [
    {
     "name": "stdout",
     "output_type": "stream",
     "text": [
      "\u001b[1m18/18\u001b[0m \u001b[32m━━━━━━━━━━━━━━━━━━━━\u001b[0m\u001b[37m\u001b[0m \u001b[1m13s\u001b[0m 740ms/step - accuracy: 0.9521 - loss: 0.1732\n",
      "Test Loss: 0.18325717747211456\n",
      "Test Accuracy: 0.9547826051712036\n"
     ]
    }
   ],
   "source": [
    "loss, accuracy = model.evaluate(test)\n",
    "print(\"Test Loss:\", loss)\n",
    "print(\"Test Accuracy:\", accuracy)"
   ]
  },
  {
   "cell_type": "markdown",
   "id": "29305566",
   "metadata": {
    "papermill": {
     "duration": 0.025836,
     "end_time": "2024-11-22T20:03:29.632237",
     "exception": false,
     "start_time": "2024-11-22T20:03:29.606401",
     "status": "completed"
    },
    "tags": []
   },
   "source": [
    "## Create plots of training and validation accuracy as a fucntion of the number of Epochs as well as training and validation as a function of the number of epochs"
   ]
  },
  {
   "cell_type": "code",
   "execution_count": 14,
   "id": "a7978f3f",
   "metadata": {
    "execution": {
     "iopub.execute_input": "2024-11-22T20:03:29.684288Z",
     "iopub.status.busy": "2024-11-22T20:03:29.683933Z",
     "iopub.status.idle": "2024-11-22T20:03:30.176051Z",
     "shell.execute_reply": "2024-11-22T20:03:30.174932Z"
    },
    "papermill": {
     "duration": 0.520278,
     "end_time": "2024-11-22T20:03:30.178058",
     "exception": false,
     "start_time": "2024-11-22T20:03:29.657780",
     "status": "completed"
    },
    "tags": []
   },
   "outputs": [
    {
     "data": {
      "image/png": "[encoded data removed]",
      "text/plain": [
       "<Figure size 1400x500 with 2 Axes>"
      ]
     },
     "metadata": {},
     "output_type": "display_data"
    }
   ],
   "source": [
    "import matplotlib.pyplot as plt\n",
    "\n",
    "# Retrieve accuracy and loss data from history\n",
    "train_accuracy = history.history['accuracy']\n",
    "val_accuracy = history.history['val_accuracy']\n",
    "train_loss = history.history['loss']\n",
    "val_loss = history.history['val_loss']\n",
    "\n",
    "# Create a figure with two subplots: one for accuracy and one for loss\n",
    "plt.figure(figsize=(14, 5))\n",
    "\n",
    "# Plot training and validation accuracy\n",
    "plt.subplot(1, 2, 1)\n",
    "plt.plot(train_accuracy, label='Training Accuracy', color='blue')\n",
    "plt.plot(val_accuracy, label='Validation Accuracy', color='orange')\n",
    "plt.xlabel('Epoch')\n",
    "plt.ylabel('Accuracy')\n",
    "plt.title('Training and Validation Accuracy')\n",
    "plt.legend()\n",
    "\n",
    "# Plot training and validation loss\n",
    "plt.subplot(1, 2, 2)\n",
    "plt.plot(train_loss, label='Training Loss', color='blue')\n",
    "plt.plot(val_loss, label='Validation Loss', color='orange')\n",
    "plt.xlabel('Epoch')\n",
    "plt.ylabel('Loss')\n",
    "plt.title('Training and Validation Loss')\n",
    "plt.legend()\n",
    "\n",
    "# Adjust layout to prevent overlapping\n",
    "plt.tight_layout()\n",
    "\n",
    "# Display the plot\n",
    "plt.show()\n"
   ]
  },
  {
   "cell_type": "markdown",
   "id": "28dac7ac",
   "metadata": {
    "papermill": {
     "duration": 0.025059,
     "end_time": "2024-11-22T20:03:30.229621",
     "exception": false,
     "start_time": "2024-11-22T20:03:30.204562",
     "status": "completed"
    },
    "tags": []
   },
   "source": [
    "# Create Confusion Matrix\n"
   ]
  },
  {
   "cell_type": "code",
   "execution_count": 15,
   "id": "4d4390ef",
   "metadata": {
    "execution": {
     "iopub.execute_input": "2024-11-22T20:03:30.285362Z",
     "iopub.status.busy": "2024-11-22T20:03:30.284988Z",
     "iopub.status.idle": "2024-11-22T20:03:35.524721Z",
     "shell.execute_reply": "2024-11-22T20:03:35.523599Z"
    },
    "papermill": {
     "duration": 5.271491,
     "end_time": "2024-11-22T20:03:35.526715",
     "exception": false,
     "start_time": "2024-11-22T20:03:30.255224",
     "status": "completed"
    },
    "tags": []
   },
   "outputs": [
    {
     "name": "stdout",
     "output_type": "stream",
     "text": [
      "\u001b[1m18/18\u001b[0m \u001b[32m━━━━━━━━━━━━━━━━━━━━\u001b[0m\u001b[37m\u001b[0m \u001b[1m4s\u001b[0m 220ms/step\n"
     ]
    },
    {
     "data": {
      "image/png": "[encoded data removed]",
      "text/plain": [
       "<Figure size 800x800 with 2 Axes>"
      ]
     },
     "metadata": {},
     "output_type": "display_data"
    }
   ],
   "source": [
    "from sklearn.metrics import confusion_matrix\n",
    "import numpy as np\n",
    "\n",
    "# Get predictions for the test data\n",
    "y_pred = model.predict(test)\n",
    "y_pred_classes = np.argmax(y_pred, axis=1)\n",
    "\n",
    "# Get true labels for the test data\n",
    "true_classes = test.classes\n",
    "\n",
    "# Compute confusion matrix\n",
    "conf_matrix = confusion_matrix(true_classes, y_pred_classes)\n",
    "\n",
    "# Plot confusion matrix\n",
    "import seaborn as sns\n",
    "import matplotlib.pyplot as plt\n",
    "\n",
    "plt.figure(figsize=(8, 8))\n",
    "sns.heatmap(conf_matrix, annot=True, fmt='d', cmap='Blues', square=True, \n",
    "            xticklabels=test.class_indices.keys(), yticklabels=test.class_indices.keys())\n",
    "plt.xlabel('Predicted')\n",
    "plt.ylabel('Actual')\n",
    "plt.title('Confusion Matrix')\n",
    "plt.show()"
   ]
  },
  {
   "cell_type": "markdown",
   "id": "69e70949",
   "metadata": {
    "papermill": {
     "duration": 0.026771,
     "end_time": "2024-11-22T20:03:35.582529",
     "exception": false,
     "start_time": "2024-11-22T20:03:35.555758",
     "status": "completed"
    },
    "tags": []
   },
   "source": []
  },
  {
   "cell_type": "markdown",
   "id": "dcfed2dc",
   "metadata": {
    "papermill": {
     "duration": 0.02585,
     "end_time": "2024-11-22T20:03:35.634651",
     "exception": false,
     "start_time": "2024-11-22T20:03:35.608801",
     "status": "completed"
    },
    "tags": []
   },
   "source": [
    "## What we know so far: \n",
    "The model is working and it is around 95.8% accurate with 15 epochs. "
   ]
  }
 ],
 "metadata": {
  "kaggle": {
   "accelerator": "nvidiaTeslaT4",
   "dataSources": [
    {
     "datasetId": 1343913,
     "sourceId": 2236708,
     "sourceType": "datasetVersion"
    }
   ],
   "isGpuEnabled": true,
   "isInternetEnabled": false,
   "language": "python",
   "sourceType": "notebook"
  },
  "kernelspec": {
   "display_name": "Python 3",
   "language": "python",
   "name": "python3"
  },
  "language_info": {
   "codemirror_mode": {
    "name": "ipython",
    "version": 3
   },
   "file_extension": ".py",
   "mimetype": "text/x-python",
   "name": "python",
   "nbconvert_exporter": "python",
   "pygments_lexer": "ipython3",
   "version": "3.10.14"
  },
  "papermill": {
   "default_parameters": {},
   "duration": 200.852734,
   "end_time": "2024-11-22T20:03:38.050584",
   "environment_variables": {},
   "exception": null,
   "input_path": "__notebook__.ipynb",
   "output_path": "__notebook__.ipynb",
   "parameters": {},
   "start_time": "2024-11-22T20:00:17.197850",
   "version": "2.6.0"
  }
 },
 "nbformat": 4,
 "nbformat_minor": 5
}
