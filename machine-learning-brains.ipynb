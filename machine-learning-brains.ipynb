{
 "cells": [
  {
   "cell_type": "markdown",
   "id": "724549bb",
   "metadata": {
    "papermill": {
     "duration": 0.004219,
     "end_time": "2024-11-08T20:28:58.644508",
     "exception": false,
     "start_time": "2024-11-08T20:28:58.640289",
     "status": "completed"
    },
    "tags": []
   },
   "source": [
    "# Setup"
   ]
  },
  {
   "cell_type": "code",
   "execution_count": 1,
   "id": "37592e8b",
   "metadata": {
    "_cell_guid": "b1076dfc-b9ad-4769-8c92-a6c4dae69d19",
    "_uuid": "8f2839f25d086af736a60e9eeb907d3b93b6e0e5",
    "execution": {
     "iopub.execute_input": "2024-11-08T20:28:58.654293Z",
     "iopub.status.busy": "2024-11-08T20:28:58.653170Z",
     "iopub.status.idle": "2024-11-08T20:29:01.288025Z",
     "shell.execute_reply": "2024-11-08T20:29:01.286702Z"
    },
    "papermill": {
     "duration": 2.642483,
     "end_time": "2024-11-08T20:29:01.290695",
     "exception": false,
     "start_time": "2024-11-08T20:28:58.648212",
     "status": "completed"
    },
    "tags": []
   },
   "outputs": [
    {
     "name": "stdout",
     "output_type": "stream",
     "text": [
      "Files in '/kaggle/input':\n",
      "/kaggle/input/brian-tumor-dataset/metadata_rgb_only.csv\n",
      "/kaggle/input/brian-tumor-dataset/metadata.csv\n",
      "/kaggle/input/brian-tumor-dataset/Brain Tumor Data Set/Brain Tumor Data Set/Brain Tumor/Cancer (489).jpg\n",
      "/kaggle/input/brian-tumor-dataset/Brain Tumor Data Set/Brain Tumor Data Set/Brain Tumor/Cancer (72).tif\n",
      "/kaggle/input/brian-tumor-dataset/Brain Tumor Data Set/Brain Tumor Data Set/Brain Tumor/Cancer (2411).jpg\n",
      "/kaggle/input/brian-tumor-dataset/Brain Tumor Data Set/Brain Tumor Data Set/Brain Tumor/Cancer (1065).jpg\n",
      "/kaggle/input/brian-tumor-dataset/Brain Tumor Data Set/Brain Tumor Data Set/Brain Tumor/Cancer (1014).jpg\n",
      "/kaggle/input/brian-tumor-dataset/Brain Tumor Data Set/Brain Tumor Data Set/Brain Tumor/Cancer (385).jpg\n",
      "/kaggle/input/brian-tumor-dataset/Brain Tumor Data Set/Brain Tumor Data Set/Brain Tumor/Cancer (1822).jpg\n",
      "/kaggle/input/brian-tumor-dataset/Brain Tumor Data Set/Brain Tumor Data Set/Brain Tumor/Cancer (2023).jpg\n",
      "/kaggle/input/brian-tumor-dataset/Brain Tumor Data Set/Brain Tumor Data Set/Brain Tumor/Cancer (84).jpg\n",
      "/kaggle/input/brian-tumor-dataset/Brain Tumor Data Set/Brain Tumor Data Set/Brain Tumor/Cancer (657).jpg\n",
      "/kaggle/input/brian-tumor-dataset/Brain Tumor Data Set/Brain Tumor Data Set/Brain Tumor/Cancer (1258).jpg\n",
      "/kaggle/input/brian-tumor-dataset/Brain Tumor Data Set/Brain Tumor Data Set/Brain Tumor/Cancer (926).jpg\n",
      "/kaggle/input/brian-tumor-dataset/Brain Tumor Data Set/Brain Tumor Data Set/Brain Tumor/Cancer (1684).jpg\n",
      "/kaggle/input/brian-tumor-dataset/Brain Tumor Data Set/Brain Tumor Data Set/Brain Tumor/Cancer (715).jpg\n",
      "/kaggle/input/brian-tumor-dataset/Brain Tumor Data Set/Brain Tumor Data Set/Brain Tumor/Cancer (1526).jpg\n",
      "/kaggle/input/brian-tumor-dataset/Brain Tumor Data Set/Brain Tumor Data Set/Brain Tumor/Cancer (1722).jpg\n",
      "/kaggle/input/brian-tumor-dataset/Brain Tumor Data Set/Brain Tumor Data Set/Brain Tumor/Cancer (475).jpg\n",
      "/kaggle/input/brian-tumor-dataset/Brain Tumor Data Set/Brain Tumor Data Set/Brain Tumor/Cancer (86).jpg\n",
      "...\n"
     ]
    }
   ],
   "source": [
    "# This Python 3 environment comes with many helpful analytics libraries installed\n",
    "# It is defined by the kaggle/python Docker image: https://github.com/kaggle/docker-python\n",
    "# For example, here's several helpful packages to load\n",
    "\n",
    "import numpy as np # linear algebra\n",
    "import pandas as pd # data processing, CSV file I/O (e.g. pd.read_csv)\n",
    "\n",
    "# Input data files are available in the read-only \"../input/\" directory\n",
    "# For example, running this (by clicking run or pressing Shift+Enter) will list all files under the input directory\n",
    "\n",
    "# List files in input directory, showing a sample with ellipsis\n",
    "import os\n",
    "input_files = []\n",
    "for dirname, _, filenames in os.walk('/kaggle/input'):\n",
    "    for filename in filenames:\n",
    "        input_files.append(os.path.join(dirname, filename))\n",
    "\n",
    "# Display the first n files, then indicate if more exist\n",
    "display_count = 20\n",
    "\n",
    "print(\"Files in '/kaggle/input':\")\n",
    "print(\"\\n\".join(input_files[:display_count]))\n",
    "if len(input_files) > display_count:\n",
    "    print(\"...\")\n",
    "\n",
    "    \n",
    "# You can write up to 20GB to the current directory (/kaggle/working/) that gets preserved as output when you create a version using \"Save & Run All\" \n",
    "# You can also write temporary files to /kaggle/temp/, but they won't be saved outside of the current session"
   ]
  },
  {
   "cell_type": "code",
   "execution_count": 2,
   "id": "b870be56",
   "metadata": {
    "execution": {
     "iopub.execute_input": "2024-11-08T20:29:01.299581Z",
     "iopub.status.busy": "2024-11-08T20:29:01.299045Z",
     "iopub.status.idle": "2024-11-08T20:29:14.049486Z",
     "shell.execute_reply": "2024-11-08T20:29:14.048348Z"
    },
    "papermill": {
     "duration": 12.757646,
     "end_time": "2024-11-08T20:29:14.051938",
     "exception": false,
     "start_time": "2024-11-08T20:29:01.294292",
     "status": "completed"
    },
    "tags": []
   },
   "outputs": [],
   "source": [
    "# import libraries \n",
    "import numpy as np # linear algebra\n",
    "import pandas as pd\n",
    "import matplotlib as plt \n",
    "import tensorflow as tf \n",
    "from tensorflow import keras \n",
    "\n"
   ]
  },
  {
   "cell_type": "code",
   "execution_count": 3,
   "id": "5245eaa7",
   "metadata": {
    "execution": {
     "iopub.execute_input": "2024-11-08T20:29:14.060917Z",
     "iopub.status.busy": "2024-11-08T20:29:14.059798Z",
     "iopub.status.idle": "2024-11-08T20:29:14.065138Z",
     "shell.execute_reply": "2024-11-08T20:29:14.064161Z"
    },
    "papermill": {
     "duration": 0.01209,
     "end_time": "2024-11-08T20:29:14.067485",
     "exception": false,
     "start_time": "2024-11-08T20:29:14.055395",
     "status": "completed"
    },
    "tags": []
   },
   "outputs": [
    {
     "name": "stdout",
     "output_type": "stream",
     "text": [
      "hi\n"
     ]
    }
   ],
   "source": [
    "print(\"hi\")"
   ]
  },
  {
   "cell_type": "markdown",
   "id": "e7569fed",
   "metadata": {
    "papermill": {
     "duration": 0.003045,
     "end_time": "2024-11-08T20:29:14.073904",
     "exception": false,
     "start_time": "2024-11-08T20:29:14.070859",
     "status": "completed"
    },
    "tags": []
   },
   "source": [
    "# Load Data"
   ]
  },
  {
   "cell_type": "code",
   "execution_count": 4,
   "id": "349aa7f5",
   "metadata": {
    "execution": {
     "iopub.execute_input": "2024-11-08T20:29:14.082149Z",
     "iopub.status.busy": "2024-11-08T20:29:14.081731Z",
     "iopub.status.idle": "2024-11-08T20:29:14.132305Z",
     "shell.execute_reply": "2024-11-08T20:29:14.130805Z"
    },
    "papermill": {
     "duration": 0.057355,
     "end_time": "2024-11-08T20:29:14.134586",
     "exception": false,
     "start_time": "2024-11-08T20:29:14.077231",
     "status": "completed"
    },
    "tags": []
   },
   "outputs": [
    {
     "name": "stdout",
     "output_type": "stream",
     "text": [
      "|    |   Unnamed: 0 | image           | class   | format   | mode   | shape         |\n",
      "|---:|-------------:|:----------------|:--------|:---------|:-------|:--------------|\n",
      "|  0 |            0 | Cancer (1).jpg  | tumor   | JPEG     | RGB    | (512, 512, 3) |\n",
      "|  1 |            1 | Cancer (1).png  | tumor   | PNG      | L      | (300, 240)    |\n",
      "|  2 |            2 | Cancer (1).tif  | tumor   | TIFF     | RGB    | (256, 256, 3) |\n",
      "|  3 |            3 | Cancer (10).jpg | tumor   | JPEG     | RGB    | (512, 512, 3) |\n",
      "|  4 |            4 | Cancer (10).tif | tumor   | TIFF     | RGB    | (256, 256, 3) |\n"
     ]
    }
   ],
   "source": [
    "labels_df = pd.read_csv('/kaggle/input/brian-tumor-dataset/metadata.csv')\n",
    "print(labels_df.head().to_markdown())"
   ]
  },
  {
   "cell_type": "code",
   "execution_count": null,
   "id": "ffa3fcb5",
   "metadata": {
    "papermill": {
     "duration": 0.003246,
     "end_time": "2024-11-08T20:29:14.141345",
     "exception": false,
     "start_time": "2024-11-08T20:29:14.138099",
     "status": "completed"
    },
    "tags": []
   },
   "outputs": [],
   "source": []
  },
  {
   "cell_type": "markdown",
   "id": "65cac5ee",
   "metadata": {
    "papermill": {
     "duration": 0.003148,
     "end_time": "2024-11-08T20:29:14.147904",
     "exception": false,
     "start_time": "2024-11-08T20:29:14.144756",
     "status": "completed"
    },
    "tags": []
   },
   "source": [
    "# Process Data"
   ]
  },
  {
   "cell_type": "code",
   "execution_count": null,
   "id": "b94915da",
   "metadata": {
    "papermill": {
     "duration": 0.003201,
     "end_time": "2024-11-08T20:29:14.154413",
     "exception": false,
     "start_time": "2024-11-08T20:29:14.151212",
     "status": "completed"
    },
    "tags": []
   },
   "outputs": [],
   "source": []
  },
  {
   "cell_type": "markdown",
   "id": "b66d42aa",
   "metadata": {
    "papermill": {
     "duration": 0.003131,
     "end_time": "2024-11-08T20:29:14.160823",
     "exception": false,
     "start_time": "2024-11-08T20:29:14.157692",
     "status": "completed"
    },
    "tags": []
   },
   "source": [
    "# Visualize Data"
   ]
  },
  {
   "cell_type": "code",
   "execution_count": null,
   "id": "ef6f1411",
   "metadata": {
    "papermill": {
     "duration": 0.003033,
     "end_time": "2024-11-08T20:29:14.167162",
     "exception": false,
     "start_time": "2024-11-08T20:29:14.164129",
     "status": "completed"
    },
    "tags": []
   },
   "outputs": [],
   "source": []
  },
  {
   "cell_type": "markdown",
   "id": "0dcf69ee",
   "metadata": {
    "papermill": {
     "duration": 0.004032,
     "end_time": "2024-11-08T20:29:14.174516",
     "exception": false,
     "start_time": "2024-11-08T20:29:14.170484",
     "status": "completed"
    },
    "tags": []
   },
   "source": [
    "# Create Convolutional Neural Network"
   ]
  },
  {
   "cell_type": "code",
   "execution_count": null,
   "id": "e8dd6f0a",
   "metadata": {
    "papermill": {
     "duration": 0.003117,
     "end_time": "2024-11-08T20:29:14.180923",
     "exception": false,
     "start_time": "2024-11-08T20:29:14.177806",
     "status": "completed"
    },
    "tags": []
   },
   "outputs": [],
   "source": []
  }
 ],
 "metadata": {
  "kaggle": {
   "accelerator": "none",
   "dataSources": [
    {
     "datasetId": 1343913,
     "sourceId": 2236708,
     "sourceType": "datasetVersion"
    }
   ],
   "isGpuEnabled": false,
   "isInternetEnabled": false,
   "language": "python",
   "sourceType": "notebook"
  },
  "kernelspec": {
   "display_name": "Python 3",
   "language": "python",
   "name": "python3"
  },
  "language_info": {
   "codemirror_mode": {
    "name": "ipython",
    "version": 3
   },
   "file_extension": ".py",
   "mimetype": "text/x-python",
   "name": "python",
   "nbconvert_exporter": "python",
   "pygments_lexer": "ipython3",
   "version": "3.10.14"
  },
  "papermill": {
   "default_parameters": {},
   "duration": 19.576326,
   "end_time": "2024-11-08T20:29:15.508214",
   "environment_variables": {},
   "exception": null,
   "input_path": "__notebook__.ipynb",
   "output_path": "__notebook__.ipynb",
   "parameters": {},
   "start_time": "2024-11-08T20:28:55.931888",
   "version": "2.6.0"
  }
 },
 "nbformat": 4,
 "nbformat_minor": 5
}
