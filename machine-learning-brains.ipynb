{
 "cells": [
  {
   "cell_type": "markdown",
   "id": "c8db2a71",
   "metadata": {
    "papermill": {
     "duration": 0.005352,
     "end_time": "2024-11-13T23:45:48.110081",
     "exception": false,
     "start_time": "2024-11-13T23:45:48.104729",
     "status": "completed"
    },
    "tags": []
   },
   "source": [
    "# Setup"
   ]
  },
  {
   "cell_type": "markdown",
   "id": "3951d724",
   "metadata": {
    "papermill": {
     "duration": 0.004306,
     "end_time": "2024-11-13T23:45:48.119276",
     "exception": false,
     "start_time": "2024-11-13T23:45:48.114970",
     "status": "completed"
    },
    "tags": []
   },
   "source": [
    "## Imports Necessary Libraries"
   ]
  },
  {
   "cell_type": "code",
   "execution_count": 1,
   "id": "69e3c11d",
   "metadata": {
    "execution": {
     "iopub.execute_input": "2024-11-13T23:45:48.130893Z",
     "iopub.status.busy": "2024-11-13T23:45:48.130471Z",
     "iopub.status.idle": "2024-11-13T23:46:05.532135Z",
     "shell.execute_reply": "2024-11-13T23:46:05.530837Z"
    },
    "papermill": {
     "duration": 17.410474,
     "end_time": "2024-11-13T23:46:05.534882",
     "exception": false,
     "start_time": "2024-11-13T23:45:48.124408",
     "status": "completed"
    },
    "tags": []
   },
   "outputs": [],
   "source": [
    "# ---------- Import Essential Libraries ---------- #\n",
    "\n",
    "# Machine Learning Essentials #\n",
    "import numpy as np \n",
    "import pandas as pd \n",
    "import matplotlib.pyplot as plt\n",
    "import os \n",
    "from sklearn.model_selection import train_test_split\n",
    "import tensorflow as tf \n",
    "from tensorflow import keras \n",
    "# import splitfolders \n",
    "import pathlib\n",
    "from pathlib import Path\n",
    "\n",
    "# Python Utils #\n",
    "import copy\n",
    "\n",
    "# Other #\n"
   ]
  },
  {
   "cell_type": "markdown",
   "id": "7ff7bc7b",
   "metadata": {
    "papermill": {
     "duration": 0.004546,
     "end_time": "2024-11-13T23:46:05.544314",
     "exception": false,
     "start_time": "2024-11-13T23:46:05.539768",
     "status": "completed"
    },
    "tags": []
   },
   "source": [
    "## Inputs and Folders"
   ]
  },
  {
   "cell_type": "code",
   "execution_count": 2,
   "id": "2d5e9f35",
   "metadata": {
    "execution": {
     "iopub.execute_input": "2024-11-13T23:46:05.556282Z",
     "iopub.status.busy": "2024-11-13T23:46:05.555581Z",
     "iopub.status.idle": "2024-11-13T23:46:05.561462Z",
     "shell.execute_reply": "2024-11-13T23:46:05.560136Z"
    },
    "papermill": {
     "duration": 0.014871,
     "end_time": "2024-11-13T23:46:05.563964",
     "exception": false,
     "start_time": "2024-11-13T23:46:05.549093",
     "status": "completed"
    },
    "tags": []
   },
   "outputs": [],
   "source": [
    "# Globals / Settings\n",
    "KAGGLE_INPUT   = '/kaggle/input'\n",
    "DATA_METADATA  = '/kaggle/input/brian-tumor-dataset/metadata.csv'\n",
    "DATA_DIRECTORY = '/kaggle/input/brian-tumor-dataset/Brain Tumor Data Set/Brain Tumor Data Set'"
   ]
  },
  {
   "cell_type": "markdown",
   "id": "ce1f25fa",
   "metadata": {
    "papermill": {
     "duration": 0.004552,
     "end_time": "2024-11-13T23:46:05.573234",
     "exception": false,
     "start_time": "2024-11-13T23:46:05.568682",
     "status": "completed"
    },
    "tags": []
   },
   "source": [
    "## Kaggle Setup"
   ]
  },
  {
   "cell_type": "code",
   "execution_count": 3,
   "id": "c1405b93",
   "metadata": {
    "execution": {
     "iopub.execute_input": "2024-11-13T23:46:05.584134Z",
     "iopub.status.busy": "2024-11-13T23:46:05.583677Z",
     "iopub.status.idle": "2024-11-13T23:46:11.657068Z",
     "shell.execute_reply": "2024-11-13T23:46:11.655429Z"
    },
    "papermill": {
     "duration": 6.081781,
     "end_time": "2024-11-13T23:46:11.659610",
     "exception": false,
     "start_time": "2024-11-13T23:46:05.577829",
     "status": "completed"
    },
    "tags": []
   },
   "outputs": [
    {
     "name": "stdout",
     "output_type": "stream",
     "text": [
      "Files in '/kaggle/input':\n",
      "/kaggle/input/brian-tumor-dataset/metadata_rgb_only.csv\n",
      "/kaggle/input/brian-tumor-dataset/metadata.csv\n",
      "/kaggle/input/brian-tumor-dataset/Brain Tumor Data Set/Brain Tumor Data Set/Brain Tumor/Cancer (489).jpg\n",
      "/kaggle/input/brian-tumor-dataset/Brain Tumor Data Set/Brain Tumor Data Set/Brain Tumor/Cancer (72).tif\n",
      "/kaggle/input/brian-tumor-dataset/Brain Tumor Data Set/Brain Tumor Data Set/Brain Tumor/Cancer (2411).jpg\n",
      "/kaggle/input/brian-tumor-dataset/Brain Tumor Data Set/Brain Tumor Data Set/Brain Tumor/Cancer (1065).jpg\n",
      "/kaggle/input/brian-tumor-dataset/Brain Tumor Data Set/Brain Tumor Data Set/Brain Tumor/Cancer (1014).jpg\n",
      "/kaggle/input/brian-tumor-dataset/Brain Tumor Data Set/Brain Tumor Data Set/Brain Tumor/Cancer (385).jpg\n",
      "/kaggle/input/brian-tumor-dataset/Brain Tumor Data Set/Brain Tumor Data Set/Brain Tumor/Cancer (1822).jpg\n",
      "/kaggle/input/brian-tumor-dataset/Brain Tumor Data Set/Brain Tumor Data Set/Brain Tumor/Cancer (2023).jpg\n",
      "/kaggle/input/brian-tumor-dataset/Brain Tumor Data Set/Brain Tumor Data Set/Brain Tumor/Cancer (84).jpg\n",
      "/kaggle/input/brian-tumor-dataset/Brain Tumor Data Set/Brain Tumor Data Set/Brain Tumor/Cancer (657).jpg\n",
      "/kaggle/input/brian-tumor-dataset/Brain Tumor Data Set/Brain Tumor Data Set/Brain Tumor/Cancer (1258).jpg\n",
      "/kaggle/input/brian-tumor-dataset/Brain Tumor Data Set/Brain Tumor Data Set/Brain Tumor/Cancer (926).jpg\n",
      "/kaggle/input/brian-tumor-dataset/Brain Tumor Data Set/Brain Tumor Data Set/Brain Tumor/Cancer (1684).jpg\n",
      "/kaggle/input/brian-tumor-dataset/Brain Tumor Data Set/Brain Tumor Data Set/Brain Tumor/Cancer (715).jpg\n",
      "/kaggle/input/brian-tumor-dataset/Brain Tumor Data Set/Brain Tumor Data Set/Brain Tumor/Cancer (1526).jpg\n",
      "/kaggle/input/brian-tumor-dataset/Brain Tumor Data Set/Brain Tumor Data Set/Brain Tumor/Cancer (1722).jpg\n",
      "/kaggle/input/brian-tumor-dataset/Brain Tumor Data Set/Brain Tumor Data Set/Brain Tumor/Cancer (475).jpg\n",
      "/kaggle/input/brian-tumor-dataset/Brain Tumor Data Set/Brain Tumor Data Set/Brain Tumor/Cancer (86).jpg\n",
      "...\n"
     ]
    }
   ],
   "source": [
    "# List files in input directory, showing a sample with ellipsis\n",
    "input_files = []\n",
    "for dirname, _, filenames in os.walk(KAGGLE_INPUT):\n",
    "    for filename in filenames:\n",
    "        input_files.append(os.path.join(dirname, filename))\n",
    "\n",
    "# Display the first n files, then indicate if more exist\n",
    "display_count = 20\n",
    "\n",
    "print(\"Files in '/kaggle/input':\")\n",
    "print(\"\\n\".join(input_files[:display_count]))\n",
    "if len(input_files) > display_count:\n",
    "    print(\"...\")\n",
    "\n",
    "# You can write up to 20GB to the current directory (/kaggle/working/) that gets preserved as output when you create a version using \"Save & Run All\" \n",
    "# You can also write temporary files to /kaggle/temp/, but they won't be saved outside of the current session"
   ]
  },
  {
   "cell_type": "markdown",
   "id": "b2ba28fd",
   "metadata": {
    "execution": {
     "iopub.execute_input": "2024-11-08T22:46:21.499603Z",
     "iopub.status.busy": "2024-11-08T22:46:21.498585Z",
     "iopub.status.idle": "2024-11-08T22:46:21.503913Z",
     "shell.execute_reply": "2024-11-08T22:46:21.502731Z",
     "shell.execute_reply.started": "2024-11-08T22:46:21.499559Z"
    },
    "papermill": {
     "duration": 0.005559,
     "end_time": "2024-11-13T23:46:11.670075",
     "exception": false,
     "start_time": "2024-11-13T23:46:11.664516",
     "status": "completed"
    },
    "tags": []
   },
   "source": [
    "## Helpers"
   ]
  },
  {
   "cell_type": "code",
   "execution_count": 4,
   "id": "242935bc",
   "metadata": {
    "execution": {
     "iopub.execute_input": "2024-11-13T23:46:11.682322Z",
     "iopub.status.busy": "2024-11-13T23:46:11.681301Z",
     "iopub.status.idle": "2024-11-13T23:46:11.696055Z",
     "shell.execute_reply": "2024-11-13T23:46:11.694904Z"
    },
    "papermill": {
     "duration": 0.023646,
     "end_time": "2024-11-13T23:46:11.698715",
     "exception": false,
     "start_time": "2024-11-13T23:46:11.675069",
     "status": "completed"
    },
    "tags": []
   },
   "outputs": [],
   "source": [
    "# ---------- Data Visualization Helpers ---------- #\n",
    "\"\"\"\n",
    "view_df_head() ---------------- print sample data from df\n",
    "view_df_summary_pie_chart() --- print pie chart summary\n",
    "view_df_summary_table() ------- print table summary\n",
    "view_df_summary() ------------- shortcut to view head+pie+table summary with one call\n",
    "\n",
    "See below for extra documentation and use examples.\n",
    "\"\"\"\n",
    "\n",
    "def view_df_head(df, title=None):\n",
    "    if title: \n",
    "        print(f\"{title}:\")\n",
    "    print(df.head().to_markdown(),'\\n')\n",
    "\n",
    "def view_df_summary_pie_chart(df=None, cc=None, title=None, size=2):\n",
    "    \"\"\"\n",
    "    Helper to visualize dataset makeup with a pie chart\n",
    "    \"\"\"\n",
    "    \n",
    "    # Handle Parameters\n",
    "    if df is not None: \n",
    "        class_data = df['class'].value_counts()\n",
    "    \n",
    "    elif cc is not None: \n",
    "        class_data = cc\n",
    "    \n",
    "    else: \n",
    "        raise ValueError(\"Provide input data frame (df) or class counts (cc).\")\n",
    "\n",
    "    # -- Plot --\n",
    "    # Setup Figure\n",
    "    fig, ax = plt.subplots(figsize=(size,size))  # Pie chart size can be controlled here\n",
    "    # Plot the pie chart\n",
    "    ax.pie(class_data, labels=class_data.index, autopct='%1.1f%%', startangle=90, colors=plt.cm.Paired.colors)\n",
    "    # Equal aspect ratio ensures the pie chart is drawn as a circle\n",
    "    ax.axis('equal')\n",
    "    # Display the pie chart and optional title\n",
    "    if title: \n",
    "        print(f\"{title}:\")\n",
    "    plt.show()\n",
    "\n",
    "def view_df_summary_table(df, title=None):\n",
    "    \"\"\"\n",
    "    Generates a summary table of class counts from the given DataFrame\n",
    "    \"\"\"\n",
    "    # ----- Fetch and Calculate Summary Data ----- #\n",
    "    \n",
    "    # Get class-count + total_count data\n",
    "    class_counts = df['class'].value_counts()\n",
    "    total_count = class_counts.sum()\n",
    "    # Calculate percentages based on class-count data\n",
    "    percentages = (class_counts / total_count * 100).round(1)  # Round percentages\n",
    "    \n",
    "    # Calculate and append \"Total\" row\n",
    "    class_counts = pd.concat([class_counts, pd.Series({\"Total\": total_count})])\n",
    "    percentages = pd.concat([percentages, pd.Series({\"Total\": 100.0})])\n",
    "\n",
    "    # ----- Format and Prepare Summary Data ----- #\n",
    "    \n",
    "     # Populate data dictionary\n",
    "    data = {\n",
    "        \"Attribute\": class_counts.index.tolist(),\n",
    "        \"Count\": class_counts.values.tolist(),\n",
    "        \"Percentage (%)\": percentages.values.tolist()\n",
    "    }\n",
    "\n",
    "    # Convert to DataFrame info_df\n",
    "    info_df = pd.DataFrame(data)\n",
    "\n",
    "    # ----- Display Summary Data ----- #\n",
    "    \n",
    "    # Display title if available\n",
    "    if title: info_df.name = title\n",
    "    \n",
    "    # Display info_df with fancy format\n",
    "    if title: print(f\"{info_df.name}:\")\n",
    "    print(info_df.to_markdown(index=False, tablefmt=\"fancy_grid\"))\n",
    "\n",
    "def view_df_summary(df, title=None, pie_size=2):\n",
    "    \"\"\"\n",
    "    Helper to print a table and a pie chart to summarize a given DataFrame\n",
    "    \"\"\"\n",
    "    view_df_summary_table(df, title=f\"Summary\") \n",
    "    view_df_summary_pie_chart(df, title=f\"Pie Chart\", size=pie_size)\n",
    "    view_df_head(df, title=f\"Sample Data\")\n",
    "    print()\n",
    "\n",
    "# ---------- Example Uses, Templates, Documentation ---------- #\n",
    "\n",
    "# # Example Uses:\n",
    "# view_df_head(df, \"optional title\")\n",
    "# view_df_summary_table(df, \"optional title\")\n",
    "# view_df_summary_pie_chart(df, title=\"optional title\", size=2)\n",
    "# view_df_summary(df)\n",
    "\n",
    "# # Flexible Template to Copy and Use:\n",
    "# print(\"DataTitle:\",'\\n')\n",
    "# view_df_head(labels_df, \"Sample Data\")\n",
    "# view_df_summary_table(labels_df, \"Summary\")\n",
    "# print('\\n')"
   ]
  },
  {
   "cell_type": "markdown",
   "id": "c754aded",
   "metadata": {
    "papermill": {
     "duration": 0.004518,
     "end_time": "2024-11-13T23:46:11.708041",
     "exception": false,
     "start_time": "2024-11-13T23:46:11.703523",
     "status": "completed"
    },
    "tags": []
   },
   "source": [
    "# Data"
   ]
  },
  {
   "cell_type": "markdown",
   "id": "0cc35edb",
   "metadata": {
    "papermill": {
     "duration": 0.004358,
     "end_time": "2024-11-13T23:46:11.717089",
     "exception": false,
     "start_time": "2024-11-13T23:46:11.712731",
     "status": "completed"
    },
    "tags": []
   },
   "source": [
    "**Description writeup:** TODO"
   ]
  },
  {
   "cell_type": "markdown",
   "id": "e9ad5df1",
   "metadata": {
    "papermill": {
     "duration": 0.005131,
     "end_time": "2024-11-13T23:46:11.727422",
     "exception": false,
     "start_time": "2024-11-13T23:46:11.722291",
     "status": "completed"
    },
    "tags": []
   },
   "source": [
    "## Load Data"
   ]
  },
  {
   "cell_type": "code",
   "execution_count": 5,
   "id": "14285889",
   "metadata": {
    "execution": {
     "iopub.execute_input": "2024-11-13T23:46:11.739111Z",
     "iopub.status.busy": "2024-11-13T23:46:11.738299Z",
     "iopub.status.idle": "2024-11-13T23:46:11.768373Z",
     "shell.execute_reply": "2024-11-13T23:46:11.766783Z"
    },
    "papermill": {
     "duration": 0.038964,
     "end_time": "2024-11-13T23:46:11.771082",
     "exception": false,
     "start_time": "2024-11-13T23:46:11.732118",
     "status": "completed"
    },
    "tags": []
   },
   "outputs": [],
   "source": [
    "# Load Data into DataFrame\n",
    "labels_df = pd.read_csv(DATA_METADATA)"
   ]
  },
  {
   "cell_type": "code",
   "execution_count": 6,
   "id": "aa9beb34",
   "metadata": {
    "execution": {
     "iopub.execute_input": "2024-11-13T23:46:11.782549Z",
     "iopub.status.busy": "2024-11-13T23:46:11.782108Z",
     "iopub.status.idle": "2024-11-13T23:46:11.966075Z",
     "shell.execute_reply": "2024-11-13T23:46:11.964898Z"
    },
    "papermill": {
     "duration": 0.195179,
     "end_time": "2024-11-13T23:46:11.971164",
     "exception": false,
     "start_time": "2024-11-13T23:46:11.775985",
     "status": "completed"
    },
    "tags": []
   },
   "outputs": [
    {
     "name": "stdout",
     "output_type": "stream",
     "text": [
      "Full Dataset: \n",
      "\n",
      "Data Summary:\n",
      "╒═════════════╤═════════╤══════════════════╕\n",
      "│ Attribute   │   Count │   Percentage (%) │\n",
      "╞═════════════╪═════════╪══════════════════╡\n",
      "│ tumor       │    2513 │             54.6 │\n",
      "├─────────────┼─────────┼──────────────────┤\n",
      "│ normal      │    2087 │             45.4 │\n",
      "├─────────────┼─────────┼──────────────────┤\n",
      "│ Total       │    4600 │            100   │\n",
      "╘═════════════╧═════════╧══════════════════╛\n"
     ]
    },
    {
     "data": {
      "image/png": "[encoded data removed]",
      "text/plain": [
       "<Figure size 200x200 with 1 Axes>"
      ]
     },
     "metadata": {},
     "output_type": "display_data"
    },
    {
     "name": "stdout",
     "output_type": "stream",
     "text": [
      "Sample Data:\n",
      "|    |   Unnamed: 0 | image           | class   | format   | mode   | shape         |\n",
      "|---:|-------------:|:----------------|:--------|:---------|:-------|:--------------|\n",
      "|  0 |            0 | Cancer (1).jpg  | tumor   | JPEG     | RGB    | (512, 512, 3) |\n",
      "|  1 |            1 | Cancer (1).png  | tumor   | PNG      | L      | (300, 240)    |\n",
      "|  2 |            2 | Cancer (1).tif  | tumor   | TIFF     | RGB    | (256, 256, 3) |\n",
      "|  3 |            3 | Cancer (10).jpg | tumor   | JPEG     | RGB    | (512, 512, 3) |\n",
      "|  4 |            4 | Cancer (10).tif | tumor   | TIFF     | RGB    | (256, 256, 3) | \n",
      "\n",
      "\n",
      "\n"
     ]
    }
   ],
   "source": [
    "# Visualize Data:\n",
    "print(\"Full Dataset:\",'\\n')\n",
    "view_df_summary_table(labels_df, \"Data Summary\")\n",
    "view_df_summary_pie_chart(labels_df, \"Pie Chart\")\n",
    "view_df_head(labels_df, \"Sample Data\")\n",
    "print('\\n')"
   ]
  },
  {
   "cell_type": "markdown",
   "id": "05f92469",
   "metadata": {
    "papermill": {
     "duration": 0.008086,
     "end_time": "2024-11-13T23:46:11.988110",
     "exception": false,
     "start_time": "2024-11-13T23:46:11.980024",
     "status": "completed"
    },
    "tags": []
   },
   "source": [
    "## Split Data"
   ]
  },
  {
   "cell_type": "code",
   "execution_count": 7,
   "id": "e174a4b8",
   "metadata": {
    "execution": {
     "iopub.execute_input": "2024-11-13T23:46:12.009369Z",
     "iopub.status.busy": "2024-11-13T23:46:12.007600Z",
     "iopub.status.idle": "2024-11-13T23:46:12.083050Z",
     "shell.execute_reply": "2024-11-13T23:46:12.081766Z"
    },
    "papermill": {
     "duration": 0.088615,
     "end_time": "2024-11-13T23:46:12.085612",
     "exception": false,
     "start_time": "2024-11-13T23:46:11.996997",
     "status": "completed"
    },
    "tags": []
   },
   "outputs": [
    {
     "name": "stdout",
     "output_type": "stream",
     "text": [
      "brain_tumor_dir = /kaggle/input/brian-tumor-dataset/Brain Tumor Data Set/Brain Tumor Data Set/Brain Tumor\n",
      "\n",
      "healthy_dir = /kaggle/input/brian-tumor-dataset/Brain Tumor Data Set/Brain Tumor Data Set/Healthy\n",
      "\n",
      "Number of Brain Tumor Images: 2513\n",
      "Number of Healthy Images: 2087\n",
      "Number of Training Images: 3679\n",
      "Number of Testing Images: 921\n",
      "Training set has: 0.7997826086956522 % of the images\n",
      "Testing set has: 0.20021739130434782 % of the images\n"
     ]
    }
   ],
   "source": [
    "# Define the paths to each folder\n",
    "\n",
    "# Get all the image extensions \n",
    "# Possibly change to regular expression if needed \n",
    "image_extensions = ['*.jpeg', '*.jpg', '*.JPG', '*.png', '*.tif']\n",
    "\n",
    "\n",
    "brain_tumor_dir = Path(DATA_DIRECTORY) / \"Brain Tumor\"\n",
    "healthy_dir = Path(DATA_DIRECTORY) / \"Healthy\"\n",
    "print(f\"brain_tumor_dir = {brain_tumor_dir}\\n\")\n",
    "print(f\"healthy_dir = {healthy_dir}\\n\")\n",
    "\n",
    "\n",
    "brain_tumor_images = []\n",
    "healthy_brain_images = []\n",
    "\n",
    "# Iterate over image extensions list and get all the images from the two folders\n",
    "for ext in image_extensions: \n",
    "    brain_tumor_images.extend(brain_tumor_dir.glob(ext))  # Add all matching files to the list\n",
    "    healthy_brain_images.extend(healthy_dir.glob(ext))  # Add all matching files to the list\n",
    "\n",
    "# Verify that the images were collected proporly \n",
    "print(f\"Number of Brain Tumor Images: {len(brain_tumor_images)}\")\n",
    "print(f\"Number of Healthy Images: {len(healthy_brain_images)}\")\n",
    "\n",
    "\n",
    "# Split the data using train_test_split from sklearn \n",
    "brain_tumor_train, brain_tumor_test = train_test_split(brain_tumor_images, test_size=0.2, random_state=69)\n",
    "healthy_train, healthy_test = train_test_split(healthy_brain_images, test_size=0.2, random_state=69)\n",
    "\n",
    "# Combine both healthy and non healthy images into to training and testing \n",
    "train_images = brain_tumor_train + healthy_train \n",
    "test_images = brain_tumor_test + healthy_test\n",
    "train_image_percentage = len(train_images)/(len(train_images) + len(test_images))\n",
    "test_image_percentage = len(test_images)/(len(train_images) + len(test_images))\n",
    "\n",
    "# Verify the number of images in training and testing sets as well as percentage with respect to all images in dataset\n",
    "print(f\"Number of Training Images: {len(train_images)}\")\n",
    "print(f\"Number of Testing Images: {len(test_images)}\")\n",
    "print(f\"Training set has: {train_image_percentage} % of the images\")\n",
    "print(f\"Testing set has: {test_image_percentage} % of the images\")\n",
    "\n",
    "\n",
    "\n",
    "\n",
    "# New dataset path\n",
    "#data_dir = '/kaggle/working/brain'\n",
    "#data_dir = pathlib.Path(data_dir)"
   ]
  },
  {
   "cell_type": "markdown",
   "id": "14f91997",
   "metadata": {
    "papermill": {
     "duration": 0.005465,
     "end_time": "2024-11-13T23:46:12.096467",
     "exception": false,
     "start_time": "2024-11-13T23:46:12.091002",
     "status": "completed"
    },
    "tags": []
   },
   "source": [
    "## Process Data -> Torch / Tensorflow / etc"
   ]
  },
  {
   "cell_type": "markdown",
   "id": "d49fbba0",
   "metadata": {
    "papermill": {
     "duration": 0.004963,
     "end_time": "2024-11-13T23:46:12.106892",
     "exception": false,
     "start_time": "2024-11-13T23:46:12.101929",
     "status": "completed"
    },
    "tags": []
   },
   "source": [
    "# Create Convolutional Neural Network"
   ]
  },
  {
   "cell_type": "code",
   "execution_count": null,
   "id": "cf532904",
   "metadata": {
    "papermill": {
     "duration": 0.004978,
     "end_time": "2024-11-13T23:46:12.116995",
     "exception": false,
     "start_time": "2024-11-13T23:46:12.112017",
     "status": "completed"
    },
    "tags": []
   },
   "outputs": [],
   "source": []
  },
  {
   "cell_type": "code",
   "execution_count": null,
   "id": "7035a13a",
   "metadata": {
    "papermill": {
     "duration": 0.005122,
     "end_time": "2024-11-13T23:46:12.127324",
     "exception": false,
     "start_time": "2024-11-13T23:46:12.122202",
     "status": "completed"
    },
    "tags": []
   },
   "outputs": [],
   "source": []
  }
 ],
 "metadata": {
  "kaggle": {
   "accelerator": "none",
   "dataSources": [
    {
     "datasetId": 1343913,
     "sourceId": 2236708,
     "sourceType": "datasetVersion"
    }
   ],
   "isGpuEnabled": false,
   "isInternetEnabled": false,
   "language": "python",
   "sourceType": "notebook"
  },
  "kernelspec": {
   "display_name": "Python 3",
   "language": "python",
   "name": "python3"
  },
  "language_info": {
   "codemirror_mode": {
    "name": "ipython",
    "version": 3
   },
   "file_extension": ".py",
   "mimetype": "text/x-python",
   "name": "python",
   "nbconvert_exporter": "python",
   "pygments_lexer": "ipython3",
   "version": "3.10.14"
  },
  "papermill": {
   "default_parameters": {},
   "duration": 28.425254,
   "end_time": "2024-11-13T23:46:13.661741",
   "environment_variables": {},
   "exception": null,
   "input_path": "__notebook__.ipynb",
   "output_path": "__notebook__.ipynb",
   "parameters": {},
   "start_time": "2024-11-13T23:45:45.236487",
   "version": "2.6.0"
  }
 },
 "nbformat": 4,
 "nbformat_minor": 5
}
